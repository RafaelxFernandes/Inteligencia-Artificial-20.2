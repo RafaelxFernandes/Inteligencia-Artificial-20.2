{
  "nbformat": 4,
  "nbformat_minor": 0,
  "metadata": {
    "colab": {
      "name": "N_Rainhas_AG_JoaoPedro_RafaelFernandes_Versao6.ipynb",
      "provenance": [],
      "collapsed_sections": [],
      "toc_visible": true
    },
    "kernelspec": {
      "name": "python3",
      "display_name": "Python 3"
    },
    "language_info": {
      "name": "python"
    }
  },
  "cells": [
    {
      "cell_type": "markdown",
      "metadata": {
        "id": "DVx1vj4zPZXl"
      },
      "source": [
        "# Tarefa - Algoritmo Genético\n",
        "\n",
        "## Problema das N-Rainhas\n",
        "\n",
        "### Dupla:\n",
        "João Pedro de Paula Oliveira - DRE: 113054857\n",
        "\n",
        "Rafael da Silva Fernandes - DRE: 117196229"
      ]
    },
    {
      "cell_type": "markdown",
      "metadata": {
        "id": "26aXPEjZPtLh"
      },
      "source": [
        "##1. **Modelagem do Indivíduo**"
      ]
    },
    {
      "cell_type": "markdown",
      "metadata": {
        "id": "EryVKRU3IOBi"
      },
      "source": [
        "### (a) Utilize a mesma representação de tabuleiro usada na tarefa do Hill Climbing."
      ]
    },
    {
      "cell_type": "markdown",
      "metadata": {
        "id": "hIbgUpiDS_LN"
      },
      "source": [
        "Um tabuleiro com N rainhas será representado por meio de uma lista. \n",
        "\n",
        "Por exemplo, a lista [3,2,1,2] representa um tabuleiro 4 x 4, em que o índice 0 da lista significa que na primeira coluna, contando da esquerda para a direita, há uma rainha na quarta linha, contando de cima para baixo. \n",
        "\n",
        "Dessa forma, os valores possíveis da lista vão de 0 até (N - 1)."
      ]
    },
    {
      "cell_type": "markdown",
      "metadata": {
        "id": "DeUHojhYbmrW"
      },
      "source": [
        "###(b) Proponha uma representação binária para o tabuleiro."
      ]
    },
    {
      "cell_type": "markdown",
      "metadata": {
        "id": "nbn5JFHccJ5G"
      },
      "source": [
        "Como o tamanho de tabuleiro que usaremos na tarefa é 2^n, vamos considerar a representação binária dos indivíduos como T números de base 2 com n bits, onde T é o tamanho do tabuleiro, concatenados em sequência.\n",
        "\n",
        "Utilizando a lista [3,2,1,2] citada no item acima como exemplo, o indivíduo seria 11100110. O tabuleiro tem dimensão n = 2, portanto possui tamanho T = 2^2 = 4, então o indivíduo é formado por 4 elementos de 2 bits, 11 10 01 e 10, que são as representações binárias de 3 2 1 2. As posições i, para as quais (i mod n = 1), indicam o início de outro elemento da lista na representação em base 10.\n",
        "\n",
        "Agora considerando um tabuleiro de tamanho 8, temos que n = 3 e T = 8, pois 2^3 = 8. Usando a lista [0,4,6,3,5,6,1,7] como base, temos o indivíduo correspondente sendo 000010110011101110001111, que são 8 elementos de 3 bits cada. Note que nas posições 1, 4, 7, 10, 13, 16, 19 e 22 temos o início de um novo elemento da lista original, pois estes índices são verdade para a expressão (i mod 3 = 1).\n",
        "\n",
        "\n",
        "==> Trabalhei em cima dessa lógica mas admito que não entendi ela"
      ]
    },
    {
      "cell_type": "markdown",
      "metadata": {
        "id": "PwhsIdwCP-TA"
      },
      "source": [
        "## Implementação"
      ]
    },
    {
      "cell_type": "code",
      "metadata": {
        "id": "n2bUiyPPuCnZ"
      },
      "source": [
        "N = 4\n",
        "# N = 8\n",
        "# N = 16\n",
        "# N = 32"
      ],
      "execution_count": 30,
      "outputs": []
    },
    {
      "cell_type": "code",
      "metadata": {
        "id": "DIv23vGpQAjp"
      },
      "source": [
        "import random\n",
        "\n",
        "def monta_tabuleiro(N):\n",
        "\n",
        "    tabuleiro = []\n",
        "\n",
        "    # Gera uma lista de tamanho N, com valores de 0 a (N-1)\n",
        "    # indicando as posições das rainhas, contando de cima para baixo\n",
        "    for i in range(N):\n",
        "        tabuleiro.append(random.randint(0, (N - 1)))\n",
        "\n",
        "    return tabuleiro\n",
        "\n",
        "\n",
        "# tabuleiro = monta_tabuleiro(N)\n",
        "# print(\"Vamos trabalhar com o tabuleiro: \" + str(tabuleiro))"
      ],
      "execution_count": 31,
      "outputs": []
    },
    {
      "cell_type": "code",
      "metadata": {
        "id": "_vcSfyNcJG7h"
      },
      "source": [
        "import math\n",
        "\n",
        "def tabuleiro_para_binario(tabuleiro):\n",
        "\n",
        "    n = int(math.log(N, 2))\n",
        "    individuo = \"\"\n",
        "\n",
        "    for i in range(len(tabuleiro)):\n",
        "\n",
        "        elemento_tabuleiro = tabuleiro[i]\n",
        "\n",
        "        # print((n - len(bin(elemento_tabuleiro)[2:])) * \"0\" + bin(elemento_tabuleiro)[2:])\n",
        "        individuo += (n - len(bin(elemento_tabuleiro)[2:])) * \"0\" + bin(elemento_tabuleiro)[2:]\n",
        "        \n",
        "    return individuo\n",
        "\n",
        "\n",
        "# print(\"O tabuleiro \" + str(tabuleiro) + \" possui a seguinte representação em binário: \" \n",
        "#       + str(tabuleiro_para_binario(tabuleiro)))"
      ],
      "execution_count": 32,
      "outputs": []
    },
    {
      "cell_type": "markdown",
      "metadata": {
        "id": "unNVBpQ6qef5"
      },
      "source": [
        "##2. **Geração População Inicial**"
      ]
    },
    {
      "cell_type": "markdown",
      "metadata": {
        "id": "eiWoD-_BQH9x"
      },
      "source": [
        "### Defina uma função que dado o tamanho n de uma população, gera aleatoriamente um conjunto de n indivíduos. A função deve funcionar para os dois tipos de indivíduos definidos no item anterior."
      ]
    },
    {
      "cell_type": "code",
      "metadata": {
        "id": "gr83uHgvrNvs"
      },
      "source": [
        "# Essa função faz n chamadas da função monta_tabuleiro, adicionando os\n",
        "# tabuleiros criados no array \"pop_inicial_lista\"\n",
        "# Recebe como parâmetros o número de indivíduos da população e\n",
        "# o tamanho do tabuleiro.\n",
        "\n",
        "# Respondi sua observação quanto a não ter se atentado ao enunciado\n",
        "# Ele diz que a função deve funcionar para os dois tipos de indivíduos\n",
        "# Eu entendi isso como \"Utilize a mesma função para gerar populações com os dois tipos de indivíduos\"\n",
        "# Não sei se minha interpretação está correta\n",
        "# De qualquer forma, fiz com que a linha 21 transformasse a população gerada na linha 20 em binário\n",
        "# Imprimo as duas listas nas linhas 23 e 24 para testar, mas não sei o que a função deveria retornar\n",
        "# Por enquanto estou retornando a lista em decimal, e caso necessário a transformo em binário\n",
        "\n",
        "def cria_pop_inicial_lista(tamanho_populacao, N):\n",
        "\n",
        "    pop_inicial_lista = []\n",
        "    pop_inicial_binaria = []\n",
        "\n",
        "    for i in range(tamanho_populacao):\n",
        "        pop_inicial_lista.append(monta_tabuleiro(N))\n",
        "  \n",
        "    return pop_inicial_lista\n",
        "\n",
        "\n",
        "# pop_inicial_lista = cria_pop_inicial_lista(10, N)\n",
        "# pop_inicial_lista"
      ],
      "execution_count": 33,
      "outputs": []
    },
    {
      "cell_type": "code",
      "metadata": {
        "id": "_KOvcyiUtSlG"
      },
      "source": [
        "# Essa função percorre todos os elementos da versão em lista da população\n",
        "# inicial e os converte para a representação binária, guardando os elementos\n",
        "# no array \"pop_inicial_binaria\"\n",
        "\n",
        "import math\n",
        "\n",
        "def cria_pop_inicial(N, populacao, tipo_representacao):\n",
        "\n",
        "  # Preciso saber quantos bits têm os elementos que irão compor o indivíduo\n",
        "  bits = str(int(math.log2(N)))\n",
        "\n",
        "  # Será minha variável de saída no return\n",
        "  pop_inicial_binaria = []\n",
        "\n",
        "  # Instancio localmanente a variável global\n",
        "  pop_inicial = populacao\n",
        "\n",
        "  # Minha população é composta de indivíduos\n",
        "  for individuo in pop_inicial:\n",
        "\n",
        "    # reinicializo o array para a próxima iteração\n",
        "    array_temp = []\n",
        "\n",
        "    # Meus indivíduos são compostos por colunas. Aqui converto o valor de cada\n",
        "    # coluna de int para a string da representação binária\n",
        "    for coluna in individuo:\n",
        "    \n",
        "      # format é um método de string, converte arg[0] para o formato de arg[1],\n",
        "      # que defini como sendo um binário de \"bits\" casas.\n",
        "      elemento_binario = format(coluna, '0' + bits + 'b')\n",
        "\n",
        "      # array_temp só serve para guardar todos os elementos convertidos no loop.\n",
        "      # Por enquanto, eu ainda tenho um array de representações binárias, mas \n",
        "      # meu indivíduo deveria ser apenas uma string só. Ao sair do for, os \n",
        "      # elementos da lista serão unidos nessa única string.\n",
        "      array_temp.append(elemento_binario)\n",
        "    \n",
        "    # Saí do for mais interno, agora posso unir todos os elementos em um único\n",
        "    # indivíduo e colocá-lo no array pop_inicial_binaria. ''.join concatena\n",
        "    # todos os elementos do array passado como parâmetro com o caractere entre \n",
        "    # aspas entre cada elemento, no caso, o caractere que passei é a string vazia\n",
        "    individuo_binario = ''.join(array_temp)\n",
        "    pop_inicial_binaria.append(individuo_binario) \n",
        "\n",
        "  if tipo_representacao == \"decimal\":\n",
        "      return pop_inicial\n",
        "  elif tipo_representacao == \"binario\":\n",
        "      return pop_inicial_binaria\n",
        "\n",
        "# binario = cria_pop_inicial(N, pop_inicial_lista, \"binario\")\n",
        "# binario"
      ],
      "execution_count": 34,
      "outputs": []
    },
    {
      "cell_type": "markdown",
      "metadata": {
        "id": "EWkuWjjpRJUb"
      },
      "source": [
        "##3. **Operadores: Para os dois tipos de indivíduos definidos acima:**"
      ]
    },
    {
      "cell_type": "markdown",
      "metadata": {
        "id": "Iz-bK_dmRaMj"
      },
      "source": [
        "###(a) Defina a função de adaptação usada para avaliar um tabuleiro T."
      ]
    },
    {
      "cell_type": "code",
      "metadata": {
        "id": "mxh3YsruUDyC"
      },
      "source": [
        "# Caso tenham rainhas na mesma linha, aumenta o valor da variável \"ataque\"\n",
        "def checa_linha(tabuleiro):\n",
        "\n",
        "    ataques = 0\n",
        "\n",
        "    for coluna in range(len(tabuleiro)):\n",
        "\n",
        "        linha_rainha = tabuleiro[coluna]\n",
        "\n",
        "        for coluna_vizinha in range(1, len(tabuleiro) - coluna):\n",
        "\n",
        "            posicao_coluna_atual = coluna + coluna_vizinha\n",
        "\n",
        "            if tabuleiro[posicao_coluna_atual] == linha_rainha:\n",
        "                ataques += 1\n",
        "    \n",
        "    return ataques"
      ],
      "execution_count": 35,
      "outputs": []
    },
    {
      "cell_type": "code",
      "metadata": {
        "id": "Vvqx9WsPYBIZ"
      },
      "source": [
        "# Para cada rainha, verifica se há outras rainhas em sua diagonal superior\n",
        "def checa_diagonal_superior(tabuleiro):\n",
        "\n",
        "    ataques = 0\n",
        "\n",
        "    for coluna in range(len(tabuleiro)):\n",
        "\n",
        "        linha_rainha = tabuleiro[coluna]\n",
        "        # como há a restrição de apenas uma rainha por coluna, só é preciso verificar as colunas à esquerda\n",
        "        for coluna_vizinha in range(1, len(tabuleiro) - coluna):\n",
        "\n",
        "            posicao_coluna_atual = coluna + coluna_vizinha\n",
        "\n",
        "            if tabuleiro[posicao_coluna_atual] == (linha_rainha - coluna_vizinha):\n",
        "                ataques += 1\n",
        "    \n",
        "    return ataques"
      ],
      "execution_count": 36,
      "outputs": []
    },
    {
      "cell_type": "code",
      "metadata": {
        "id": "5rhqfqW0YE9j"
      },
      "source": [
        "# Para cada rainha, verifica se há outras rainhas em sua diagonal inferior\n",
        "def checa_diagonal_inferior(tabuleiro):\n",
        "\n",
        "    ataques = 0\n",
        "\n",
        "    for coluna in range(len(tabuleiro)):\n",
        "\n",
        "        linha_rainha = tabuleiro[coluna]\n",
        "\n",
        "        for coluna_vizinha in range(1, len(tabuleiro) - coluna):\n",
        "            # como há a restrição de apenas uma rainha por coluna, só é preciso verificar as colunas à esquerda\n",
        "            posicao_coluna_atual = coluna + coluna_vizinha\n",
        "\n",
        "            if tabuleiro[posicao_coluna_atual] == (linha_rainha + coluna_vizinha):\n",
        "                ataques += 1\n",
        "    \n",
        "    return ataques"
      ],
      "execution_count": 37,
      "outputs": []
    },
    {
      "cell_type": "code",
      "metadata": {
        "id": "3L2Ce7FFYH_c"
      },
      "source": [
        "# Heurística h(x). Conta a quantidade total de ataques no tabuleiro, fazendo o somatório de todos os ataques possíveis\n",
        "# nas linhas e diagonais de cada rainha.\n",
        "def conta_ataques(tabuleiro):\n",
        "\n",
        "    total_ataques = 0\n",
        "    ataques_diagonal_total = 0\n",
        "\n",
        "    ataques_diagonal_superior = checa_diagonal_superior(tabuleiro)\n",
        "    ataques_diagonal_inferior = checa_diagonal_inferior(tabuleiro)\n",
        "\n",
        "    ataques_diagonal_total += ataques_diagonal_superior + ataques_diagonal_inferior\n",
        "    \n",
        "    total_ataques += checa_linha(tabuleiro) + ataques_diagonal_total\n",
        "\n",
        "    return total_ataques"
      ],
      "execution_count": 38,
      "outputs": []
    },
    {
      "cell_type": "code",
      "metadata": {
        "id": "E5UwhOltYMgO"
      },
      "source": [
        "# Heurística h(x). Conta a quantidade total de ataques no tabuleiro, fazendo o somatório de todos os ataques possíveis\n",
        "# nas linhas e diagonais de cada rainha.\n",
        "def conta_ataques(tabuleiro):\n",
        "\n",
        "    total_ataques = 0\n",
        "    ataques_diagonal_total = 0\n",
        "\n",
        "    ataques_diagonal_superior = checa_diagonal_superior(tabuleiro)\n",
        "    ataques_diagonal_inferior = checa_diagonal_inferior(tabuleiro)\n",
        "\n",
        "    ataques_diagonal_total += ataques_diagonal_superior + ataques_diagonal_inferior\n",
        "    \n",
        "    total_ataques += checa_linha(tabuleiro) + ataques_diagonal_total\n",
        "\n",
        "    return total_ataques"
      ],
      "execution_count": 39,
      "outputs": []
    },
    {
      "cell_type": "code",
      "metadata": {
        "id": "hSBJQsyLYQNL"
      },
      "source": [
        "# print(checa_linha(tabuleiro))\n",
        "# print(checa_diagonal_superior(tabuleiro))\n",
        "# print(checa_diagonal_inferior(tabuleiro))\n",
        "# print(\"O total de ataques para o tabuleiro \" + str(tabuleiro) \n",
        "#       + \" é igual à \" + str(conta_ataques(tabuleiro)))\n",
        "# print(\"Sendo o tabuleiro \" + str(tabuleiro) + \" o indivíduo \"\n",
        "#       + str(tabuleiro_para_binario(tabuleiro)))"
      ],
      "execution_count": 40,
      "outputs": []
    },
    {
      "cell_type": "markdown",
      "metadata": {
        "id": "MYKy_HjDo0e4"
      },
      "source": [
        "\n",
        "[Comentário informal] Para nós, quanto mais perto de 0 um valor da lista_funcao_avaliacao for melhor, pois significa que estamos perto de encontrar uma solução (onde não há ataques entre rainhas), então eu mudei nossa função de avaliação, ao invés do valor negativo do número de ataques, para (1/ número de ataques + 1), assim quanto mais ataques, menor o valor da função avaliação. Tirei essa ideia da página 15 do slide 1 de algoritmo \n",
        "genético.\n",
        "\n",
        "Essas variáveis que mencionei aparecem nas células abaixo."
      ]
    },
    {
      "cell_type": "code",
      "metadata": {
        "id": "p65yDNhFYXrj"
      },
      "source": [
        "def calcula_f(tabuleiro):\n",
        "    return 1/ (conta_ataques(tabuleiro) + 1)"
      ],
      "execution_count": 41,
      "outputs": []
    },
    {
      "cell_type": "markdown",
      "metadata": {
        "id": "QcPlFsKlRjq5"
      },
      "source": [
        "###(b) Defina a função que dada uma população P, constrói a roleta viciada correspondente a P."
      ]
    },
    {
      "cell_type": "code",
      "metadata": {
        "id": "1n9A3BdjUEbo"
      },
      "source": [
        "def funcao_avaliacao_pop_inicial(populacao):\n",
        "\n",
        "    lista_populacao = cria_pop_inicial(N, populacao, \"decimal\")\n",
        "    lista_funcao_avaliacao = []\n",
        "\n",
        "    for i in range(len(populacao)):\n",
        "        # print(calcula_f(lista_populacao[i]))\n",
        "        lista_funcao_avaliacao.append(calcula_f(lista_populacao[i]))\n",
        "\n",
        "    return lista_funcao_avaliacao\n",
        "\n",
        "\n",
        "# lista_funcao_avaliacao = funcao_avaliacao_pop_inicial(3)\n",
        "# lista_funcao_avaliacao"
      ],
      "execution_count": 42,
      "outputs": []
    },
    {
      "cell_type": "code",
      "metadata": {
        "id": "avYw5AzPf9P5"
      },
      "source": [
        "def cria_proporcao_roleta(tamanho_populacao, populacao):\n",
        "\n",
        "    soma = 0\n",
        "    lista_proporcao_roleta = []\n",
        "    lista_funcao_avaliacao = funcao_avaliacao_pop_inicial(populacao)\n",
        "\n",
        "    for i in range(tamanho_populacao):\n",
        "        soma += lista_funcao_avaliacao[i]\n",
        "\n",
        "    for i in range(tamanho_populacao):\n",
        "        porcentagem = lista_funcao_avaliacao[i]/ soma * 100\n",
        "        # print(round(porcentagem, 2))\n",
        "        porcentagem_arredondada = round(porcentagem, 2)\n",
        "        lista_proporcao_roleta.append(porcentagem_arredondada)\n",
        "    \n",
        "    return lista_proporcao_roleta\n",
        "\n",
        "\n",
        "# lista_proporcao_roleta = cria_proporcao_roleta(3)\n",
        "# lista_proporcao_roleta"
      ],
      "execution_count": 43,
      "outputs": []
    },
    {
      "cell_type": "markdown",
      "metadata": {
        "id": "oJ_rhIVN392W"
      },
      "source": [
        "[Comentário informal] Aqui eu chamo os indivíduos de 1 à 10, como o professor faz no slide. Não acho que seja uma representação ruim, mas quando gerarmos a tabela para a população intermediária, não sei se ele vai colocar\n",
        "5 - 7 - 5 - 8 - 9 - 5 - 5 - 7, por exemplo, ou se ele vai numerar de 1 à 10 também. Talvez criar um dicionário para a população inicial funcione\n",
        "{1: [individuo1], 2: [individuo2]}, e aí na tabela da população intermediária nós já teríamos que o [individuo5] precisa aparecer como \"5\", mesmo ele aparecendo primeiro no exemplo acima. Infelizmente não tive tempo para testar essa ideia."
      ]
    },
    {
      "cell_type": "code",
      "metadata": {
        "id": "PQClqlljapo5"
      },
      "source": [
        "import pandas as pd\n",
        "import numpy as np\n",
        "\n",
        "\n",
        "def cria_dicionario(populacao):\n",
        "    dicionario_populacao = { i+1 : populacao[i] for i in range(0, len(populacao)) }\n",
        "    return dicionario_populacao\n",
        "\n",
        "\n",
        "def tabela_populacao(populacao, lista_funcao_avaliacao, lista_proporcao_roleta):\n",
        "\n",
        "    dicionario_populacao = cria_dicionario(populacao)\n",
        "\n",
        "    populacao_dataframe = pd.DataFrame(lista_funcao_avaliacao)\n",
        "    populacao_dataframe[\"Proporção da roleta (%)\"] = lista_proporcao_roleta\n",
        "    populacao_dataframe.index = dicionario_populacao.keys()\n",
        "    populacao_dataframe.rename_axis(\"Indivíduo\", axis=\"columns\", inplace=True)\n",
        "    populacao_dataframe.rename(columns= {0: \"Função de avaliação\"}, inplace=True)\n",
        "    \n",
        "    return populacao_dataframe\n",
        "\n",
        "\n",
        "# tabela_populacao()"
      ],
      "execution_count": 44,
      "outputs": []
    },
    {
      "cell_type": "code",
      "metadata": {
        "id": "ne6-xTm_jYCp"
      },
      "source": [
        "import matplotlib.pyplot as plt\n",
        "\n",
        "\n",
        "def monta_roleta(lista_proporcao_roleta, lista_funcao_avaliacao):\n",
        "\n",
        "    lista_proporcao_roleta_np_array = np.array(lista_proporcao_roleta)\n",
        "    plt.figure(1, figsize=(16, 8))\n",
        "    plt.title('Roleta de proporção', fontsize=24)\n",
        "\n",
        "    roleta = plt.pie(lista_proporcao_roleta_np_array, \n",
        "            labels = np.arange(1, len(lista_funcao_avaliacao) + 1),\n",
        "            autopct='%1.2f%%')\n",
        "    \n",
        "    return roleta\n",
        "\n",
        "\n",
        "# monta_roleta()"
      ],
      "execution_count": 45,
      "outputs": []
    },
    {
      "cell_type": "markdown",
      "metadata": {
        "id": "nGwu6WsYRtB7"
      },
      "source": [
        "###(c) Defina a função que dada uma população P contrói uma população intermediária correspondente a P. (**seleção**)\n"
      ]
    },
    {
      "cell_type": "code",
      "metadata": {
        "id": "T02T0kTGUFNv"
      },
      "source": [
        "# Ideia:\n",
        "# Colocar em uma nova lista um número X de vezes que determinado indivíduo aparece com base na sua proporção\n",
        "# Por exemplo\n",
        "# O indivíduo 1 possui 10,63% de proporção da roleta\n",
        "# Transformamos esse 10,63 para int, que se torna 11\n",
        "# Então, acrescentamos 11 vezes na lista nova o indivíduo 1\n",
        "# Dessa forma, a lista nova vai ter aproximadamente 100 elementos no final\n",
        "# E então fazemos um rand dentro dessa lista nova \n",
        "# Obtendo assim a população intermediária\n",
        "# A probabilidade de um indivíduo com maior proporção da roleta ser selecionado se torna natural\n",
        "# Já que isso significa que ele aparecerá um maior número de vezes na nova lista\n",
        "# Chamo essa nova lista de populacao_intermediaria para ficar de acordo com os slides\n",
        "\n",
        "def selecao(tamanho_populacao, populacao):\n",
        "\n",
        "    populacao_com_base_na_proporcao = []\n",
        "    populacao_intermediaria = []\n",
        "    lista_proporcao_roleta = cria_proporcao_roleta(tamanho_populacao, populacao)\n",
        "\n",
        "    for individuo in range(tamanho_populacao):\n",
        "        for proporcao in range(int(round(lista_proporcao_roleta[individuo], 0))):\n",
        "            # print(pop_inicial_lista[individuo])\n",
        "            populacao_com_base_na_proporcao.append(populacao[individuo])\n",
        "    \n",
        "    # print(populacao_com_base_na_proporcao)\n",
        "\n",
        "    for i in range(tamanho_populacao):\n",
        "        individuo_aleatorio = random.randint(0, len(populacao_com_base_na_proporcao) - 1)\n",
        "        populacao_intermediaria.append(populacao_com_base_na_proporcao[individuo_aleatorio])\n",
        "\n",
        "    return populacao_intermediaria\n",
        "\n",
        "\n",
        "# selecao(3, pop_inicial_lista)"
      ],
      "execution_count": 46,
      "outputs": []
    },
    {
      "cell_type": "markdown",
      "metadata": {
        "id": "ztJ6ugyeR3u_"
      },
      "source": [
        "###(d) Defina a função que faz o crossover entre dois indivíduos. (**crossover**)"
      ]
    },
    {
      "cell_type": "code",
      "metadata": {
        "colab": {
          "base_uri": "https://localhost:8080/"
        },
        "id": "nYH8aA3fSW74",
        "outputId": "17ef4b56-3b42-4a10-8c97-d67034c7f2cf"
      },
      "source": [
        "# Função que realiza o crossover entre dois indivíduos. A probabilidade de \n",
        "# crossover é definida na chamada da função, não no método em si.\n",
        "# =====> em aula ele disse que 70~80% de crossover\n",
        "# A ideia da função é pegar dois indivíduos, sortear um número entre 1 e \n",
        "# len(individuo) -1, pegar a substring de 0 até o indice sorteado e concatenar com\n",
        "# a substring de indice até fim do outro indivíduo\n",
        "\n",
        "def crossover(individuoA, individuoB):\n",
        "  \n",
        "  # variável de retorno com os indivíduos que sofreram crossover.\n",
        "  novos_individuos = []\n",
        "\n",
        "  indice = random.randint(1, len(individuoA)-1)\n",
        "\n",
        "  substringA_inicio = individuoA[0:indice]\n",
        "  substringA_fim = individuoA[(indice):]\n",
        "\n",
        "  substringB_inicio = individuoB[0:indice]\n",
        "  substringB_fim = individuoB[(indice):]\n",
        "\n",
        "  crossover1 = substringA_inicio + substringB_fim\n",
        "  crossover2 = substringB_inicio + substringA_fim\n",
        "\n",
        "  novos_individuos.append(crossover1)\n",
        "  novos_individuos.append(crossover2)  \n",
        "\n",
        "  print(\"Índice sorteado: \" + str(indice))\n",
        "  print(\"Crossover 1: \" + crossover1)\n",
        "  print(\"Crossover 2: \" + crossover2)\n",
        "\n",
        "  return novos_individuos\n",
        "\n",
        "crossover(\"00000000\", \"11111111\")"
      ],
      "execution_count": 47,
      "outputs": [
        {
          "output_type": "stream",
          "text": [
            "Índice sorteado: 7\n",
            "Crossover 1: 00000001\n",
            "Crossover 2: 11111110\n"
          ],
          "name": "stdout"
        },
        {
          "output_type": "execute_result",
          "data": {
            "text/plain": [
              "['00000001', '11111110']"
            ]
          },
          "metadata": {
            "tags": []
          },
          "execution_count": 47
        }
      ]
    },
    {
      "cell_type": "markdown",
      "metadata": {
        "id": "fkEysUosSGPb"
      },
      "source": [
        "###(e) Defina a função que faz a mutação em um dado indivíduo. (**mutação**)"
      ]
    },
    {
      "cell_type": "code",
      "metadata": {
        "colab": {
          "base_uri": "https://localhost:8080/",
          "height": 35
        },
        "id": "GTUdR0kSXFiW",
        "outputId": "321da6f7-51bd-477b-f05f-b0413d88e93d"
      },
      "source": [
        "# Função que realiza a mutação em um dado indivíduo, dada uma taxa percentual\n",
        "# (entre 1 e 100), a probabilidade de mutação é aplicada sobre cada caractere \n",
        "# da string do indivíduo.\n",
        "# =====> em aula ele disse que 0~3% de mutação\n",
        "# A mutação é feita pegando o módulo da subtração do bit por 1. \n",
        "# Para o bit 0: |0 - 1| = | -1 | = 1\n",
        "# Para o bit 1: |1 - 1| = |  0 | = 0 \n",
        "\n",
        "def mutacao(individuo, percentual):\n",
        "    \n",
        "    novo_individuo = \"\"\n",
        "    \n",
        "    for caractere in individuo:\n",
        "        sorteio = random.randint(1, 100)\n",
        "        \n",
        "        if sorteio <= percentual:\n",
        "            caractere = str(abs(int(caractere) -1))\n",
        "            # print(\"Houve mutação\")\n",
        "    \n",
        "        # print(caractere)\n",
        "    \n",
        "        novo_individuo += caractere\n",
        "  \n",
        "    return novo_individuo\n",
        "\n",
        "\n",
        "mutacao(\"0000000000\", 1)"
      ],
      "execution_count": 48,
      "outputs": [
        {
          "output_type": "execute_result",
          "data": {
            "application/vnd.google.colaboratory.intrinsic+json": {
              "type": "string"
            },
            "text/plain": [
              "'0000000000'"
            ]
          },
          "metadata": {
            "tags": []
          },
          "execution_count": 48
        }
      ]
    },
    {
      "cell_type": "markdown",
      "metadata": {
        "id": "hPKCklHUUe3c"
      },
      "source": [
        "## 4. **Algoritmo Genético Básico**"
      ]
    },
    {
      "cell_type": "markdown",
      "metadata": {
        "id": "Tru3onOGuhdt"
      },
      "source": [
        "### Implementação"
      ]
    },
    {
      "cell_type": "code",
      "metadata": {
        "id": "lwLUI7CputEy",
        "colab": {
          "base_uri": "https://localhost:8080/"
        },
        "outputId": "3f354243-85e5-4b0f-d260-65058d10dcfe"
      },
      "source": [
        "def algoritmo_genetico(tamanho_populacao, numero_geracoes, p_crossover, p_mutacao, elitismo):\n",
        "\n",
        "    proxima_populacao = []\n",
        "\n",
        "    for contador_geracoes in range(numero_geracoes):\n",
        "\n",
        "        if contador_geracoes == 0:\n",
        "\n",
        "            # Geração da população inicial\n",
        "            populacao_inicial = cria_pop_inicial_lista(tamanho_populacao, N)\n",
        "            populacao_inicial_binario = cria_pop_inicial(N, populacao_inicial, \"binario\")\n",
        "            print(populacao_inicial)\n",
        "            print(populacao_inicial_binario)\n",
        "\n",
        "        elif contador_geracoes != 0:\n",
        "            populacao_inicial = proxima_populacao\n",
        "            proxima_populacao = []\n",
        "            proxima_populacao_binario = []\n",
        "\n",
        "        # Criação do dicionário da população inicial\n",
        "        dicionario_populacao = cria_dicionario(populacao_inicial)\n",
        "\n",
        "        # Avaliação da população\n",
        "        lista_funcao_avaliacao = funcao_avaliacao_pop_inicial(populacao_inicial)\n",
        "        lista_proporcao_roleta = cria_proporcao_roleta(tamanho_populacao, populacao_inicial)\n",
        "\n",
        "        # Criação da tabela com indivíduos | função de avaliação | proporção da roleta\n",
        "        populacao_dataframe = tabela_populacao(populacao_inicial, lista_funcao_avaliacao, lista_proporcao_roleta)\n",
        "        print(populacao_dataframe)\n",
        "\n",
        "        # Gráfico de pizza (roleta) com indivíduos e suas proporções\n",
        "        # roleta = monta_roleta(lista_proporcao_roleta, lista_funcao_avaliacao)\n",
        "        \n",
        "        # Geração da população intermediária\n",
        "        populacao_intermediaria = selecao(tamanho_populacao - 1, populacao_inicial)\n",
        "        print(populacao_intermediaria)\n",
        "\n",
        "        chaves_populacao_intermediaria = []\n",
        "        \n",
        "        for individuo in populacao_intermediaria:\n",
        "            for keys, values in dicionario_populacao.items():\n",
        "                if individuo == values:\n",
        "                    # print(keys)\n",
        "                    chaves_populacao_intermediaria.append(keys)\n",
        "        \n",
        "        print(chaves_populacao_intermediaria)\n",
        "\n",
        "        populacao_intermediaria_binario = cria_pop_inicial(N, populacao_intermediaria, \"binario\")\n",
        "        print(populacao_intermediaria_binario)\n",
        "\n",
        "        # Elitismo\n",
        "        if elitismo == True:\n",
        "            f_melhor_individuo = max(lista_funcao_avaliacao)\n",
        "            chave_melhor_individuo = populacao_dataframe[populacao_dataframe[\"Função de avaliação\"] == f_melhor_individuo].index.values.astype(int)[0]\n",
        "            print(\"Chave melhor indivíduo = \" + str(chave_melhor_individuo))\n",
        "\n",
        "            melhor_individuo = dicionario_populacao[chave_melhor_individuo]\n",
        "            print(\"Melhor indivíduo = \" + str(melhor_individuo))\n",
        "\n",
        "        # Crossover\n",
        "        populacao_crossover = []\n",
        "\n",
        "        # Caso a população intermediária tenha um número par de indivíduos\n",
        "        if len(populacao_intermediaria_binario) % 2 == 0:\n",
        "            \n",
        "            for individuo in range(0, len(populacao_intermediaria_binario), 2):\n",
        "                \n",
        "                probabilidade = random.randint(1, 100)\n",
        "\n",
        "                if probabilidade <= p_crossover:\n",
        "                    lista_auxiliar = crossover(populacao_intermediaria_binario[individuo], populacao_intermediaria_binario[individuo + 1])\n",
        "                    populacao_crossover.append(lista_auxiliar[0])\n",
        "                    populacao_crossover.append(lista_auxiliar[1])\n",
        "                    print(\"Houve crossover!\")\n",
        "\n",
        "                else:\n",
        "                    populacao_crossover.append(populacao_intermediaria_binario[individuo])\n",
        "                    populacao_crossover.append(populacao_intermediaria_binario[individuo + 1])\n",
        "                    print(\"Não houve crossover!\")\n",
        "        \n",
        "        # Caso a população intermediária tenha um número ímpar de indivíduos\n",
        "        # Faremos o crossover dos indivíduos da posição 1 até (tamanho da população - 1)\n",
        "        # E então acrescentaremos o último indivíduo na população do crossover\n",
        "        elif len(populacao_intermediaria_binario) % 2 != 0:\n",
        "\n",
        "            for individuo in range(0, len(populacao_intermediaria_binario) - 1, 2):\n",
        "                \n",
        "                probabilidade = random.randint(1, 100)\n",
        "\n",
        "                if probabilidade <= p_crossover:\n",
        "                    lista_auxiliar = crossover(populacao_intermediaria_binario[individuo], populacao_intermediaria_binario[individuo + 1])\n",
        "                    populacao_crossover.append(lista_auxiliar[0])\n",
        "                    populacao_crossover.append(lista_auxiliar[1])\n",
        "                    print(\"Houve crossover!\")\n",
        "\n",
        "                else:\n",
        "                    populacao_crossover.append(populacao_intermediaria_binario[individuo])\n",
        "                    populacao_crossover.append(populacao_intermediaria_binario[individuo + 1])\n",
        "                    print(\"Não houve crossover!\")\n",
        "\n",
        "            populacao_crossover.append(populacao_intermediaria_binario[-1])\n",
        "\n",
        "        print(populacao_crossover)\n",
        "\n",
        "        # Mutação\n",
        "        populacao_mutacao = []\n",
        "\n",
        "        for individuo in populacao_crossover:\n",
        "            populacao_mutacao.append(mutacao(individuo, p_mutacao))\n",
        "\n",
        "        print(populacao_mutacao)\n",
        "\n",
        "        # Geração da próxima população\n",
        "        proxima_populacao_binario = populacao_mutacao\n",
        "        melhor_individuo_binario = tabuleiro_para_binario(melhor_individuo)\n",
        "        proxima_populacao_binario.append(melhor_individuo_binario)\n",
        "        print(proxima_populacao_binario)\n",
        "\n",
        "        # Convertendo proxima_populacao_binario para decimal\n",
        "        quantidade_bits = int(math.log2(N))\n",
        "\n",
        "        for individuo in proxima_populacao_binario:\n",
        "            lista_individuo = []\n",
        "\n",
        "            for i in range(len(individuo)):\n",
        "                if i % quantidade_bits == 0:\n",
        "                    substring = int(individuo[i : i + quantidade_bits], 2)\n",
        "                    lista_individuo.append(substring)\n",
        "            \n",
        "            proxima_populacao.append(lista_individuo)\n",
        "\n",
        "        print(proxima_populacao)\n",
        "\n",
        "        # Término?\n",
        "        # Sim\n",
        "        if 1 in lista_funcao_avaliacao:\n",
        "            print(\"Terminou\")  \n",
        "\n",
        "        # Não\n",
        "        \n",
        "    print(\"Chegou no máximo de gerações\")\n",
        "\n",
        "\n",
        "algoritmo_genetico(5, 2, 80, 3, True)"
      ],
      "execution_count": 121,
      "outputs": [
        {
          "output_type": "stream",
          "text": [
            "[[3, 2, 2, 0], [0, 2, 1, 1], [0, 3, 3, 2], [0, 2, 2, 2], [1, 1, 3, 2]]\n",
            "['11101000', '00100101', '00111110', '00101010', '01011110']\n",
            "Indivíduo  Função de avaliação  Proporção da roleta (%)\n",
            "1                     0.200000                    15.19\n",
            "2                     0.333333                    25.32\n",
            "3                     0.333333                    25.32\n",
            "4                     0.200000                    15.19\n",
            "5                     0.250000                    18.99\n",
            "[[3, 2, 2, 0], [0, 2, 1, 1], [0, 2, 1, 1], [0, 3, 3, 2]]\n",
            "[1, 2, 2, 3]\n",
            "['11101000', '00100101', '00100101', '00111110']\n",
            "Chave melhor indivíduo = 2\n",
            "Melhor indivíduo = [0, 2, 1, 1]\n",
            "Índice sorteado: 7\n",
            "Crossover 1: 11101001\n",
            "Crossover 2: 00100100\n",
            "Houve crossover!\n",
            "Índice sorteado: 6\n",
            "Crossover 1: 00100110\n",
            "Crossover 2: 00111101\n",
            "Houve crossover!\n",
            "['11101001', '00100100', '00100110', '00111101']\n",
            "['11101001', '00100100', '00110110', '00111101']\n",
            "['11101001', '00100100', '00110110', '00111101', '00100101']\n",
            "[[3, 2, 2, 1], [0, 2, 1, 0], [0, 3, 1, 2], [0, 3, 3, 1], [0, 2, 1, 1]]\n",
            "Indivíduo  Função de avaliação  Proporção da roleta (%)\n",
            "1                     0.250000                    15.46\n",
            "2                     0.200000                    12.37\n",
            "3                     0.500000                    30.93\n",
            "4                     0.333333                    20.62\n",
            "5                     0.333333                    20.62\n",
            "[[3, 2, 2, 1], [0, 2, 1, 0], [3, 2, 2, 1], [3, 2, 2, 1]]\n",
            "[1, 2, 1, 1]\n",
            "['11101001', '00100100', '11101001', '11101001']\n",
            "Chave melhor indivíduo = 3\n",
            "Melhor indivíduo = [0, 3, 1, 2]\n",
            "Índice sorteado: 2\n",
            "Crossover 1: 11100100\n",
            "Crossover 2: 00101001\n",
            "Houve crossover!\n",
            "Índice sorteado: 7\n",
            "Crossover 1: 11101001\n",
            "Crossover 2: 11101001\n",
            "Houve crossover!\n",
            "['11100100', '00101001', '11101001', '11101001']\n",
            "['11101100', '00101001', '11101001', '11101001']\n",
            "['11101100', '00101001', '11101001', '11101001', '00110110']\n",
            "[[3, 2, 3, 0], [0, 2, 2, 1], [3, 2, 2, 1], [3, 2, 2, 1], [0, 3, 1, 2]]\n",
            "Chegou no máximo de gerações\n"
          ],
          "name": "stdout"
        }
      ]
    },
    {
      "cell_type": "markdown",
      "metadata": {
        "id": "vTdUK9xDutPr"
      },
      "source": [
        "### Gráfico geração x função de adaptação do melhor indivíduo da geração"
      ]
    },
    {
      "cell_type": "code",
      "metadata": {
        "id": "Pgx0NbGJxygm"
      },
      "source": [
        ""
      ],
      "execution_count": null,
      "outputs": []
    },
    {
      "cell_type": "code",
      "metadata": {
        "id": "dECxgBDtu1jE"
      },
      "source": [
        ""
      ],
      "execution_count": 49,
      "outputs": []
    },
    {
      "cell_type": "markdown",
      "metadata": {
        "id": "2NFwe9dyu1t1"
      },
      "source": [
        "### Gráfico geração × média da função de adaptação dos indivíduos da geração"
      ]
    },
    {
      "cell_type": "code",
      "metadata": {
        "id": "yT-GYzxFu14J"
      },
      "source": [
        ""
      ],
      "execution_count": 49,
      "outputs": []
    },
    {
      "cell_type": "markdown",
      "metadata": {
        "id": "KqZoXvTyAqek"
      },
      "source": [
        "## 5. **Utilizando diferentes valores para os parâmetros de entrada, diferentes representações de indivíduos e diferentes tamanhos de tabuleiro (4,8,16,32), compare e discuta os resultados obtidos.**"
      ]
    },
    {
      "cell_type": "markdown",
      "metadata": {
        "id": "1GG2QtCcA44p"
      },
      "source": [
        ""
      ]
    },
    {
      "cell_type": "code",
      "metadata": {
        "id": "Y7k6dwo9A5LE"
      },
      "source": [
        ""
      ],
      "execution_count": 49,
      "outputs": []
    },
    {
      "cell_type": "markdown",
      "metadata": {
        "id": "HjMscdB-US6q"
      },
      "source": [
        "# Hill Climbing"
      ]
    },
    {
      "cell_type": "markdown",
      "metadata": {
        "id": "myyJ6r8oQc2K"
      },
      "source": [
        "### (b) Defina uma função que dado um tabuleiro qualquer, retorna todos os seus vizinhos."
      ]
    },
    {
      "cell_type": "code",
      "metadata": {
        "id": "S8G-spa0Qfsr",
        "colab": {
          "base_uri": "https://localhost:8080/",
          "height": 231
        },
        "outputId": "f387dd22-fecb-4a43-b1c4-e9a9d6a7250a"
      },
      "source": [
        "def gera_todos_vizinhos(tabuleiro):\n",
        "\n",
        "    vizinhos = []\n",
        "   \n",
        "    # Percorre as posições da lista tabuleiro\n",
        "    for coluna in range(len(tabuleiro)):\n",
        "        \n",
        "        # Verifica se os valores da posição \"linha\" são diferentes de\n",
        "        # todas as possibilidades de 0 até (N-1)\n",
        "        for linha in range(len(tabuleiro)):\n",
        "\n",
        "            copia_tabuleiro = tabuleiro.copy()\n",
        "\n",
        "            if linha != copia_tabuleiro[coluna]:\n",
        "                copia_tabuleiro[coluna] = linha\n",
        "                \n",
        "                # Quando o tabuleiro da iteração for diferente do tabuleiro inicial\n",
        "                # o consideramos um vizinhos, e o acrescentamos à lista vizinhos\n",
        "                if copia_tabuleiro != tabuleiro:\n",
        "                    # print(copia_tabuleiro)\n",
        "                    vizinhos.append(copia_tabuleiro)\n",
        "    \n",
        "    return vizinhos\n",
        "\n",
        "\n",
        "vizinhos = gera_todos_vizinhos(tabuleiro)\n",
        "print(\"Vizinhos do tabuleiro \" + str(tabuleiro) + \":\\n\")\n",
        "vizinhos"
      ],
      "execution_count": 50,
      "outputs": [
        {
          "output_type": "error",
          "ename": "NameError",
          "evalue": "ignored",
          "traceback": [
            "\u001b[0;31m---------------------------------------------------------------------------\u001b[0m",
            "\u001b[0;31mNameError\u001b[0m                                 Traceback (most recent call last)",
            "\u001b[0;32m<ipython-input-50-c29ed179b604>\u001b[0m in \u001b[0;36m<module>\u001b[0;34m()\u001b[0m\n\u001b[1;32m     24\u001b[0m \u001b[0;34m\u001b[0m\u001b[0m\n\u001b[1;32m     25\u001b[0m \u001b[0;34m\u001b[0m\u001b[0m\n\u001b[0;32m---> 26\u001b[0;31m \u001b[0mvizinhos\u001b[0m \u001b[0;34m=\u001b[0m \u001b[0mgera_todos_vizinhos\u001b[0m\u001b[0;34m(\u001b[0m\u001b[0mtabuleiro\u001b[0m\u001b[0;34m)\u001b[0m\u001b[0;34m\u001b[0m\u001b[0;34m\u001b[0m\u001b[0m\n\u001b[0m\u001b[1;32m     27\u001b[0m \u001b[0mprint\u001b[0m\u001b[0;34m(\u001b[0m\u001b[0;34m\"Vizinhos do tabuleiro \"\u001b[0m \u001b[0;34m+\u001b[0m \u001b[0mstr\u001b[0m\u001b[0;34m(\u001b[0m\u001b[0mtabuleiro\u001b[0m\u001b[0;34m)\u001b[0m \u001b[0;34m+\u001b[0m \u001b[0;34m\":\\n\"\u001b[0m\u001b[0;34m)\u001b[0m\u001b[0;34m\u001b[0m\u001b[0;34m\u001b[0m\u001b[0m\n\u001b[1;32m     28\u001b[0m \u001b[0mvizinhos\u001b[0m\u001b[0;34m\u001b[0m\u001b[0;34m\u001b[0m\u001b[0m\n",
            "\u001b[0;31mNameError\u001b[0m: name 'tabuleiro' is not defined"
          ]
        }
      ]
    },
    {
      "cell_type": "markdown",
      "metadata": {
        "id": "lsH-hEefQhVk"
      },
      "source": [
        "### (c) Defina uma função que dado um tabuleiro qualquer, retorna um de seus vizinhos. A escolha do vizinho a ser retornado pela função deve ser aleatória."
      ]
    },
    {
      "cell_type": "code",
      "metadata": {
        "id": "oOkf0HJHQotb"
      },
      "source": [
        "def gera_vizinho_aleatorio(tabuleiro, vizinhos):\n",
        "\n",
        "    indice_vizinho_aleatorio = random.randint(0, len(vizinhos) - 1)\n",
        "    # print(indice_vizinho_aleatorio)\n",
        "\n",
        "    vizinho_aleatorio = vizinhos[indice_vizinho_aleatorio]\n",
        "\n",
        "    return vizinho_aleatorio\n",
        "\n",
        "\n",
        "gera_vizinho_aleatorio(tabuleiro, vizinhos)"
      ],
      "execution_count": null,
      "outputs": []
    },
    {
      "cell_type": "markdown",
      "metadata": {
        "id": "oKKICWA4QuKZ"
      },
      "source": [
        "### (d) Defina uma função que dado um tabuleiro qualquer, retorna a avaliação deste tabuleiro (número de ataques entre rainhas)."
      ]
    },
    {
      "cell_type": "markdown",
      "metadata": {
        "id": "2JvuUaiVkszO"
      },
      "source": [
        "A heurísitca utilizada é a mesma apresentada nos slides e no material de leitura. Ela se trata do somatório da quantidade de ataques possíveis entre todas as rainhas."
      ]
    },
    {
      "cell_type": "code",
      "metadata": {
        "id": "O6zH7FVvQ0Yn"
      },
      "source": [
        "# Caso tenham rainhas na mesma linha, aumenta o valor da variável \"ataque\"\n",
        "def checa_linha(tabuleiro):\n",
        "\n",
        "    ataques = 0\n",
        "\n",
        "    for coluna in range(len(tabuleiro)):\n",
        "\n",
        "        linha_rainha = tabuleiro[coluna]\n",
        "\n",
        "        for coluna_vizinha in range(1, len(tabuleiro) - coluna):\n",
        "\n",
        "            posicao_coluna_atual = coluna + coluna_vizinha\n",
        "\n",
        "            if tabuleiro[posicao_coluna_atual] == linha_rainha:\n",
        "                ataques += 1\n",
        "    \n",
        "    return ataques"
      ],
      "execution_count": null,
      "outputs": []
    },
    {
      "cell_type": "code",
      "metadata": {
        "id": "3gfjyVRSlGke"
      },
      "source": [
        "# Para cada rainha, verifica se há outras rainhas em sua diagonal superior\n",
        "def checa_diagonal_superior(tabuleiro):\n",
        "\n",
        "    ataques = 0\n",
        "\n",
        "    for coluna in range(len(tabuleiro)):\n",
        "\n",
        "        linha_rainha = tabuleiro[coluna]\n",
        "        # como há a restrição de apenas uma rainha por coluna, só é preciso verificar as colunas à esquerda\n",
        "        for coluna_vizinha in range(1, len(tabuleiro) - coluna):\n",
        "\n",
        "            posicao_coluna_atual = coluna + coluna_vizinha\n",
        "\n",
        "            if tabuleiro[posicao_coluna_atual] == (linha_rainha - coluna_vizinha):\n",
        "                ataques += 1\n",
        "    \n",
        "    return ataques"
      ],
      "execution_count": null,
      "outputs": []
    },
    {
      "cell_type": "code",
      "metadata": {
        "id": "P52wr6f0ocr7"
      },
      "source": [
        "# Para cada rainha, verifica se há outras rainhas em sua diagonal inferior\n",
        "def checa_diagonal_inferior(tabuleiro):\n",
        "\n",
        "    ataques = 0\n",
        "\n",
        "    for coluna in range(len(tabuleiro)):\n",
        "\n",
        "        linha_rainha = tabuleiro[coluna]\n",
        "\n",
        "        for coluna_vizinha in range(1, len(tabuleiro) - coluna):\n",
        "            # como há a restrição de apenas uma rainha por coluna, só é preciso verificar as colunas à esquerda\n",
        "            posicao_coluna_atual = coluna + coluna_vizinha\n",
        "\n",
        "            if tabuleiro[posicao_coluna_atual] == (linha_rainha + coluna_vizinha):\n",
        "                ataques += 1\n",
        "    \n",
        "    return ataques"
      ],
      "execution_count": null,
      "outputs": []
    },
    {
      "cell_type": "code",
      "metadata": {
        "id": "e3OpTpxclH61"
      },
      "source": [
        "# Heurística h(x). Conta a quantidade total de ataques no tabuleiro, fazendo o somatório de todos os ataques possíveis\n",
        "# nas linhas e diagonais de cada rainha.\n",
        "def conta_ataques(tabuleiro):\n",
        "\n",
        "    total_ataques = 0\n",
        "    ataques_diagonal_total = 0\n",
        "\n",
        "    ataques_diagonal_superior = checa_diagonal_superior(tabuleiro)\n",
        "    ataques_diagonal_inferior = checa_diagonal_inferior(tabuleiro)\n",
        "\n",
        "    ataques_diagonal_total += ataques_diagonal_superior + ataques_diagonal_inferior\n",
        "    \n",
        "    total_ataques += checa_linha(tabuleiro) + ataques_diagonal_total\n",
        "\n",
        "    return total_ataques"
      ],
      "execution_count": null,
      "outputs": []
    },
    {
      "cell_type": "code",
      "metadata": {
        "id": "Sqo8-5EAwNdM"
      },
      "source": [
        "# print(checa_linha(tabuleiro))\n",
        "# print(checa_diagonal_superior(tabuleiro))\n",
        "# print(checa_diagonal_inferior(tabuleiro))\n",
        "print(\"O total de ataques para o tabuleiro \" + str(tabuleiro) \n",
        "      + \" é igual à \" + str(conta_ataques(tabuleiro)))"
      ],
      "execution_count": null,
      "outputs": []
    },
    {
      "cell_type": "markdown",
      "metadata": {
        "id": "pFhvJCArSJ0x"
      },
      "source": [
        "## Hill Climbing"
      ]
    },
    {
      "cell_type": "markdown",
      "metadata": {
        "id": "MkzDI4odDHQ7"
      },
      "source": [
        "### (a) Implemente uma versão do algoritmo Hill Climbing, onde o tabuleiro sucessor do tabuleiro corrente será o primeiro vizinho dele (tabuleiro corrente) que tem uma avaliação melhor."
      ]
    },
    {
      "cell_type": "code",
      "metadata": {
        "id": "l2DSVzPPF8dV"
      },
      "source": [
        "# a função de avaliação é f(x) = -h(x), poir o Hill Climbing é um algoritmo de maximização\n",
        "def calcula_f(tabuleiro):\n",
        "    return conta_ataques(tabuleiro) * (-1)"
      ],
      "execution_count": null,
      "outputs": []
    },
    {
      "cell_type": "code",
      "metadata": {
        "id": "ved45mLDWcjh"
      },
      "source": [
        "# retorna o primeiro tabuleiro da lista de vizinhos encontrados que tem uma melhor avaliação em\n",
        "# relação ao parâmetro \"tabuleiro\".\n",
        "def melhor_vizinho(tabuleiro):\n",
        "\n",
        "    melhor = tabuleiro.copy()\n",
        "    f_melhor = calcula_f(melhor)\n",
        "    copia_vizinhos = gera_todos_vizinhos(melhor)\n",
        "    # print(copia_vizinhos)\n",
        "    # print(f_melhor)\n",
        "\n",
        "    for vizinho in range(len(copia_vizinhos)):\n",
        "\n",
        "        f_vizinho = calcula_f(copia_vizinhos[vizinho])\n",
        "        # print(calcula_f(vizinhos[vizinho]))\n",
        "\n",
        "        if f_vizinho > f_melhor:\n",
        "            melhor = copia_vizinhos[vizinho]\n",
        "            f_melhor = calcula_f(melhor)\n",
        "            return melhor\n",
        "\n",
        "    return melhor\n",
        "\n",
        "melhor_vizinho(tabuleiro)"
      ],
      "execution_count": null,
      "outputs": []
    },
    {
      "cell_type": "code",
      "metadata": {
        "id": "d9Hw-MJ5LbRh"
      },
      "source": [
        "# implementação do algoritmo do Hillclimbing, apresentado em sala de aula.\n",
        "# essa versão considera o primeiro vizinho com melhor valor de f.\n",
        "def hill_climbing(tabuleiro):\n",
        "\n",
        "    tabuleiro_corrente = tabuleiro.copy()\n",
        "    # print(tabuleiro_corrente)\n",
        "    contador = 0\n",
        "\n",
        "    for i in range(len(vizinhos)):\n",
        "\n",
        "        vizinho = melhor_vizinho(tabuleiro_corrente)\n",
        "        # print(vizinho)\n",
        "\n",
        "        contador += 1\n",
        "\n",
        "        if calcula_f(vizinho) <= calcula_f(tabuleiro_corrente):\n",
        "            return \"Solução encontrada em \" + str(contador) + \" passos\"\n",
        "        else:\n",
        "            tabuleiro_corrente = vizinho\n",
        "\n",
        "    return \"Solução não encontrada\"\n",
        "\n",
        "\n",
        "hill_climbing(tabuleiro)"
      ],
      "execution_count": null,
      "outputs": []
    },
    {
      "cell_type": "markdown",
      "metadata": {
        "id": "AqnRt6kXDffi"
      },
      "source": [
        "### (b) Implemente uma versão do algoritmo Hill Climbing, onde todos os tabuleiros vizinhos do tabuleiro corrente são avaliados e escolha para ser o novo tabuleiro corrente aquele que mais melhora a avaliação do tabuleiro corrente atual. No caso de haver mais de um tabuleiro, a escolha deve ser feita de forma aleatória."
      ]
    },
    {
      "cell_type": "code",
      "metadata": {
        "id": "EE_h_q59Go5B"
      },
      "source": [
        "# retorna aleatoriamente um tabuleiro vizinho com o melhor valor de f.\n",
        "\n",
        "def melhor_vizinho_modificado(tabuleiro):\n",
        "\n",
        "    melhor = tabuleiro.copy()\n",
        "    f_melhor = calcula_f(melhor)\n",
        "    copia_vizinhos = gera_todos_vizinhos(melhor)\n",
        "    lista_melhores = []\n",
        "    lista_final = []\n",
        "    # print(f_melhor)\n",
        "\n",
        "    for vizinho in range(len(copia_vizinhos)):\n",
        "\n",
        "        f_vizinho = calcula_f(copia_vizinhos[vizinho])\n",
        "        # print(calcula_f(vizinhos[vizinho]))\n",
        "\n",
        "        if f_vizinho >= f_melhor and melhor != copia_vizinhos[vizinho]:\n",
        "            melhor = copia_vizinhos[vizinho]\n",
        "            # print(melhor)\n",
        "            f_melhor = calcula_f(melhor)\n",
        "            lista_melhores.append(melhor)\n",
        "    # faz um sort na lista que guarda todos os vizinhos e pega o item de maior \n",
        "    #valor \n",
        "    absoluto = sorted(lista_melhores)[-1]\n",
        "\n",
        "    # separa os itens com uma avaliação melhor que o tabuleiro recebido por parâmetro\n",
        "    # guarda, em uma nova lista, apenas os que tiverem o maior valor\n",
        "    for i in range(len(lista_melhores)):\n",
        "        if lista_melhores[i] == absoluto:\n",
        "            lista_final.append(lista_melhores[i])\n",
        "        # if calcula_f(lista_melhores[i]) == 0:\n",
        "        #     print(lista_melhores[i])\n",
        "    \n",
        "    # caso só haja um elemento, ele é retornado, senão, é feita uma escolha aleatória\n",
        "    # dentre os itens da lista\n",
        "    if len(lista_final) == 1:\n",
        "        return lista_final[0]\n",
        "    else:\n",
        "        melhor_vizinho_aleatorio = random.randint(0, len(lista_final) - 1)\n",
        "        return lista_final[melhor_vizinho_aleatorio]\n",
        "\n",
        "\n",
        "melhor_vizinho_modificado(tabuleiro)"
      ],
      "execution_count": null,
      "outputs": []
    },
    {
      "cell_type": "code",
      "metadata": {
        "id": "OIoBLh8bD-83"
      },
      "source": [
        "# implementação do algoritmo do Hillclimbing, apresentado em sala de aula.\n",
        "# essa versão considera um vizinho com melhor valor de f escolhido aleatoriamente.\n",
        "\n",
        "def hill_climbing_modificado(tabuleiro):\n",
        "\n",
        "    tabuleiro_corrente = tabuleiro.copy()\n",
        "    contador = 0\n",
        "    # print(tabuleiro_corrente)\n",
        "\n",
        "    for i in range(len(vizinhos)):\n",
        "\n",
        "        vizinho = melhor_vizinho_modificado(tabuleiro_corrente)\n",
        "        # print(vizinho)\n",
        "        contador += 1\n",
        "        \n",
        "        if calcula_f(vizinho) == 0:\n",
        "            return \"Solução encontrada em \" + str(contador) + \" passos\"\n",
        "        else:\n",
        "            tabuleiro_corrente = vizinho\n",
        "        \n",
        "    return \"Solução não encontrada\"\n",
        "\n",
        "        \n",
        "\n",
        "hill_climbing_modificado(tabuleiro)"
      ],
      "execution_count": null,
      "outputs": []
    },
    {
      "cell_type": "markdown",
      "metadata": {
        "id": "s-zdpdaNkH4c"
      },
      "source": [
        "### (c) Analise o desempenho de cada uma das implementações. Considere:\n",
        "\n",
        "\n",
        "*   Tabuleiros de tamanho 4, 8, 16 e 32\n",
        "*   Para cada tamanho do tabuleiro:\n",
        "    \n",
        "    - indique quantas vezes você precisou executar os programas para encontrar uma solução\n",
        "    - quantos tabuleiros correntes, em média, foram gerados em cada execução?\n",
        "\n"
      ]
    },
    {
      "cell_type": "code",
      "metadata": {
        "id": "0knCLmwtARCy"
      },
      "source": [
        "def desempenho():\n",
        "\n",
        "    tabuleiro_corrente = tabuleiro.copy()\n",
        "    # print(tabuleiro_corrente)\n",
        "\n",
        "    print(\"Hill climbing: \" + hill_climbing(tabuleiro))\n",
        "    print(\"Hill climbing modificado: \" + hill_climbing_modificado(tabuleiro))\n",
        "\n",
        "\n",
        "desempenho()"
      ],
      "execution_count": null,
      "outputs": []
    },
    {
      "cell_type": "markdown",
      "metadata": {
        "id": "GnlRAAq_lVNB"
      },
      "source": [
        "### (d) Conclusões"
      ]
    },
    {
      "cell_type": "markdown",
      "metadata": {
        "id": "9LRcyS7_lY1Z"
      },
      "source": [
        "No geral, tivemos uma quantidade muito menor de tabuleiros correntes ao executarmos a função Hill Climbing, que pega o primeiro vizinho com melhor avaliação do que o tabuleiro inicial. \n",
        "\n",
        "Essa mesma função, encontrou uma solução para 100% dos casos, independentemente da quantidade de rainhas, enquanto a função Hill Climbing modificado, que seleciona um vizinho aleatório entre os que mais melhoram a avaliação do tabuleiro inicial, teve uma porcentagem de soluções encontradas inversamente proporcional à quantidade de rainhas, ou seja, quantos mais rainhas, menor a proporção de vezes em o Hill Climbing modificado encontra uma solução.\n",
        "\n",
        "Quando não encontrado uma solução, colocamos que o total de tabuleiros correntes gerado por cada função é igual à *(N x N) - N + 1*\n",
        "\n",
        "\n",
        "* *(N x N)* é a quantidade total de casas no tabuleiro\n",
        "   \n",
        "* *(N x N) - N* é a quantidade total de vizinhos, ou seja, desconsiderando a posição das rainhas no tabuleiro\n",
        "\n",
        "* *(N x N) - N + 1*, pois consideramos a execução do tabuleiro inicial\n",
        "\n",
        "Consideramos esse valor como o máximo de passos possível, pois levamos em consideração iterar apenas sobre o vetor que guarda todas as configurações dos vizinhos do tabuleiro inicial.\n",
        "\n",
        "\n",
        "[Link para planilha com análises](https://docs.google.com/spreadsheets/d/1hqg1jO_DIHlt7SOcaZU7Ae14ruQIQS8zf7Q5BdSQqWI/edit?usp=sharing)"
      ]
    },
    {
      "cell_type": "markdown",
      "metadata": {
        "id": "L3UGa5djlY54"
      },
      "source": [
        "## Simulated Annealing"
      ]
    },
    {
      "cell_type": "markdown",
      "metadata": {
        "id": "PTSI53tDlfVB"
      },
      "source": [
        "### (a) Implemente o algoritmo."
      ]
    },
    {
      "cell_type": "code",
      "metadata": {
        "id": "wXBxiMTOlb2i"
      },
      "source": [
        "# implementação do algoritmo do Simulated Annealing, apresentado em sala de aula.\n",
        "# Usamos o link \n",
        "# http://modelai.gettysburg.edu/2016/pyconsole/ex3/\n",
        "# como referência no estudo dos valores dos parâmetros\n",
        "\n",
        "import numpy as np\n",
        "\n",
        "\n",
        "def simulated_annealing(temperatura_inicial, max_iteracoes, alpha):\n",
        "\n",
        "    tabuleiro_corrente = tabuleiro.copy()\n",
        "    melhor_estado = tabuleiro_corrente\n",
        "    temperatura_corrente = temperatura_inicial\n",
        "\n",
        "    vizinhos = gera_todos_vizinhos(tabuleiro_corrente)\n",
        "\n",
        "    for i in range(max_iteracoes):\n",
        "        \n",
        "        vizinho = gera_vizinho_aleatorio(tabuleiro_corrente, vizinhos)\n",
        "\n",
        "        delta = calcula_f(vizinho) - calcula_f(tabuleiro_corrente)\n",
        "\n",
        "        if delta <= 0:\n",
        "            tabuleiro_corrente = vizinho \n",
        "\n",
        "            if calcula_f(vizinho) <= calcula_f(melhor_estado):\n",
        "                melhor_estado = vizinho\n",
        "        else:\n",
        "            if np.e ** (- delta/ temperatura_corrente) > random.randint(0, 2):\n",
        "                tabuleiro_corrente = vizinho\n",
        "        \n",
        "        temperatura_corrente *= alpha\n",
        "\n",
        "    print(calcula_f(melhor_estado))\n",
        "    return melhor_estado"
      ],
      "execution_count": null,
      "outputs": []
    },
    {
      "cell_type": "markdown",
      "metadata": {
        "id": "rGi9Wub3loMZ"
      },
      "source": [
        "### (b) Determine experimentalmente valores para os parâmetros de entrada que permitam que uma solução seja encontrada. Considere apenas tabuleiros de tamanho 4 e 8. Relate como a busca se comportou para os diferentes valores dos parâmetros de entrada."
      ]
    },
    {
      "cell_type": "code",
      "metadata": {
        "id": "hg8OCuKplwkM"
      },
      "source": [
        "simulated_annealing(100, 1, 0.1)"
      ],
      "execution_count": null,
      "outputs": []
    },
    {
      "cell_type": "markdown",
      "metadata": {
        "id": "ooxl2sg3lz2Q"
      },
      "source": [
        "### (c) Caso você tenha sido bem sucedido no item anterior (encontrou a solução do problema de 4 e 8 rainhas), use os mesmos parâmetros de entrada usados e execute o programa agora considerando tabuleiros de tamanho 16 e 32. O que acontece?"
      ]
    },
    {
      "cell_type": "markdown",
      "metadata": {
        "id": "1JvhoWPzu4Un"
      },
      "source": [
        "Utilizando o SA, não obtivemos sucesso ao tentar encontrar um resultado para o problema das 4 e 8 rainhas."
      ]
    },
    {
      "cell_type": "markdown",
      "metadata": {
        "id": "0UToISIdmDa5"
      },
      "source": [
        "## Comparando os métodos Hill Climbing e Simulated Annealing na resolução do problema das N-rainhas, o que você pode concluir?"
      ]
    },
    {
      "cell_type": "markdown",
      "metadata": {
        "id": "6FjBU0YQssfY"
      },
      "source": [
        "Comparando o SA com o Hill Climbing, percebemos uma maior dificuldade em sair dos pontos de mínimo locais. Nos testes, encontramos valores para a função de avaliação que não melhoravam a avaliação dos testes anteriores. Acontecia da função ficar \"presa\" em um valor específico para várias configurações de parâmetros diferentes, ou da avaliação mudar para um valor pior.\n",
        "\n",
        "O Hill Climbing por sua vez, sempre encontrava um resultado na versão que pega o primeiro vizinho que apresenta um valor melhor para a função de avaliação, pois essa versão do algoritmo é similar a uma busca gulosa local, que sempre encontra solução. O Hill Climbing modificado, apesar de não conseguir retornar um resultado em todas as tentativas, ainda consegue encontrá-lo algumas vezes, enquanto no SA não chegamos perto de achar nenhuma solução para tabuleiros de tamanho 4 e 8.\n",
        "\n",
        "[Planilha com os resultados](https://docs.google.com/spreadsheets/d/1hqg1jO_DIHlt7SOcaZU7Ae14ruQIQS8zf7Q5BdSQqWI/edit#gid=1361193750)"
      ]
    }
  ]
}