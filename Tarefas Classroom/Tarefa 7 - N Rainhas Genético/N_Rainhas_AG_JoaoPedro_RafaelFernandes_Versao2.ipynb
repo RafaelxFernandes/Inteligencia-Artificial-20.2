{
  "nbformat": 4,
  "nbformat_minor": 0,
  "metadata": {
    "colab": {
      "name": "N_Rainhas_AG_JoaoPedro_RafaelFernandes-Versao2.ipynb",
      "provenance": [],
      "collapsed_sections": [],
      "toc_visible": true
    },
    "kernelspec": {
      "name": "python3",
      "display_name": "Python 3"
    },
    "language_info": {
      "name": "python"
    }
  },
  "cells": [
    {
      "cell_type": "markdown",
      "metadata": {
        "id": "DVx1vj4zPZXl"
      },
      "source": [
        "# Tarefa - Algoritmo Genético\n",
        "\n",
        "## Problema das N-Rainhas\n",
        "\n",
        "### Dupla:\n",
        "João Pedro de Paula Oliveira - DRE: 113054857\n",
        "\n",
        "Rafael da Silva Fernandes - DRE: 117196229"
      ]
    },
    {
      "cell_type": "markdown",
      "metadata": {
        "id": "26aXPEjZPtLh"
      },
      "source": [
        "##1. **Modelagem do Indivíduo**"
      ]
    },
    {
      "cell_type": "markdown",
      "metadata": {
        "id": "EryVKRU3IOBi"
      },
      "source": [
        "### (a) Utilize a mesma representação de tabuleiro usada na tarefa do Hill Climbing."
      ]
    },
    {
      "cell_type": "markdown",
      "metadata": {
        "id": "hIbgUpiDS_LN"
      },
      "source": [
        "Um tabuleiro com N rainhas será representado por meio de uma lista. \n",
        "\n",
        "Por exemplo, a lista [3,2,1,2] representa um tabuleiro 4 x 4, em que o índice 0 da lista significa que na primeira coluna, contando da esquerda para a direita, há uma rainha na quarta linha, contando de cima para baixo. \n",
        "\n",
        "Dessa forma, os valores possíveis da lista vão de 0 até (N - 1)."
      ]
    },
    {
      "cell_type": "markdown",
      "metadata": {
        "id": "DeUHojhYbmrW"
      },
      "source": [
        "###(b) Proponha uma representação binária para o tabuleiro."
      ]
    },
    {
      "cell_type": "markdown",
      "metadata": {
        "id": "nbn5JFHccJ5G"
      },
      "source": [
        "Como o tamanho de tabuleiro que usaremos na tarefa é 2^n, vamos considerar a representação binária dos indivíduos como T números de base 2 com n bits, onde T é o tamanho do tabuleiro, concatenados em sequência.\n",
        "\n",
        "Utilizando a lista [3,2,1,2] citada no item acima como exemplo, o indivíduo seria 11100110. O tabuleiro tem dimensão n = 2, portanto possui tamanho T = 2^2 = 4, então o indivíduo é formado por 4 elementos de 2 bits, 11 10 01 e 10, que são as representações binárias de 3 2 1 2. As posições i, para as quais (i mod n = 1), indicam o início de outro elemento da lista na representação em base 10.\n",
        "\n",
        "Agora considerando um tabuleiro de tamanho 8, temos que n = 3 e T = 8, pois 2^3 = 8. Usando a lista [0,4,6,3,5,6,1,7] como base, temos o indivíduo correspondente sendo 000010110011101110001111, que são 8 elementos de 3 bits cada. Note que nas posições 1, 4, 7, 10, 13, 16, 19 e 22 temos o início de um novo elemento da lista original, pois estes índices são verdade para a expressão (i mod 3 = 1).\n",
        "\n",
        "\n",
        "==> Trabalhei em cima dessa lógica mas admito que não entendi ela"
      ]
    },
    {
      "cell_type": "markdown",
      "metadata": {
        "id": "PwhsIdwCP-TA"
      },
      "source": [
        "## Implementação"
      ]
    },
    {
      "cell_type": "code",
      "metadata": {
        "id": "n2bUiyPPuCnZ"
      },
      "source": [
        "N = 4\n",
        "# N = 8\n",
        "# N = 16\n",
        "# N = 32"
      ],
      "execution_count": 381,
      "outputs": []
    },
    {
      "cell_type": "code",
      "metadata": {
        "id": "DIv23vGpQAjp",
        "colab": {
          "base_uri": "https://localhost:8080/"
        },
        "outputId": "d6a1be25-8a21-4988-f461-4db50188535c"
      },
      "source": [
        "import random\n",
        "\n",
        "def monta_tabuleiro(N):\n",
        "\n",
        "    tabuleiro = []\n",
        "\n",
        "    # Gera uma lista de tamanho N, com valores de 0 a (N-1)\n",
        "    # indicando as posições das rainhas, contando de cima para baixo\n",
        "    for i in range(N):\n",
        "        tabuleiro.append(random.randint(0, (N - 1)))\n",
        "\n",
        "    return tabuleiro\n",
        "\n",
        "\n",
        "# Variável global para o tabuleiro\n",
        "tabuleiro = monta_tabuleiro(N)\n",
        "print(\"Vamos trabalhar com o tabuleiro: \" + str(tabuleiro))"
      ],
      "execution_count": 382,
      "outputs": [
        {
          "output_type": "stream",
          "text": [
            "Vamos trabalhar com o tabuleiro: [3, 2, 1, 0]\n"
          ],
          "name": "stdout"
        }
      ]
    },
    {
      "cell_type": "code",
      "metadata": {
        "colab": {
          "base_uri": "https://localhost:8080/"
        },
        "id": "_vcSfyNcJG7h",
        "outputId": "197c2cba-9af9-4fb8-c1ab-555bcf9b24ef"
      },
      "source": [
        "import math\n",
        "\n",
        "def tabuleiro_para_binario(tabuleiro):\n",
        "\n",
        "    n = int(math.log(N, 2))\n",
        "    individuo = \"\"\n",
        "\n",
        "    for i in range(len(tabuleiro)):\n",
        "\n",
        "        elemento_tabuleiro = tabuleiro[i]\n",
        "\n",
        "        # print((n - len(bin(elemento_tabuleiro)[2:])) * \"0\" + bin(elemento_tabuleiro)[2:])\n",
        "        individuo += (n - len(bin(elemento_tabuleiro)[2:])) * \"0\" + bin(elemento_tabuleiro)[2:]\n",
        "        \n",
        "    return individuo\n",
        "\n",
        "\n",
        "print(\"O tabuleiro \" + str(tabuleiro) + \" possui a seguinte representação em binário: \" \n",
        "      + str(tabuleiro_para_binario(tabuleiro)))"
      ],
      "execution_count": 383,
      "outputs": [
        {
          "output_type": "stream",
          "text": [
            "O tabuleiro [3, 2, 1, 0] possui a seguinte representação em binário: 11100100\n"
          ],
          "name": "stdout"
        }
      ]
    },
    {
      "cell_type": "markdown",
      "metadata": {
        "id": "unNVBpQ6qef5"
      },
      "source": [
        "##2. **Geração População Inicial**"
      ]
    },
    {
      "cell_type": "markdown",
      "metadata": {
        "id": "eiWoD-_BQH9x"
      },
      "source": [
        "### Defina uma função que dado o tamanho n de uma população, gera aleatoriamente um conjunto de n indivíduos. A função deve funcionar para os dois tipos de indivíduos definidos no item anterior."
      ]
    },
    {
      "cell_type": "code",
      "metadata": {
        "colab": {
          "base_uri": "https://localhost:8080/"
        },
        "id": "gr83uHgvrNvs",
        "outputId": "2b44041e-9879-4cb8-fce7-f77733914c7a"
      },
      "source": [
        "# Essa função faz n chamadas da função monta_tabuleiro, adicionando os\n",
        "# tabuleiros criados no array \"pop_inicial_lista\"\n",
        "# Recebe como parâmetros o número de indivíduos da população e\n",
        "# o tamanho do tabuleiro.\n",
        "\n",
        "# Respondi sua observação quanto a não ter se atentado ao enunciado\n",
        "# Ele diz que a função deve funcionar para os dois tipos de indivíduos\n",
        "# Eu entendi isso como \"Utilize a mesma função para gerar populações com os dois tipos de indivíduos\"\n",
        "# Não sei se minha interpretação está correta\n",
        "# De qualquer forma, fiz com que a linha 21 transformasse a população gerada na linha 20 em binário\n",
        "# Imprimo as duas listas nas linhas 23 e 24 para testar, mas não sei o que a função deveria retornar\n",
        "# Por enquanto estou retornando a lista em decimal, e caso necessário a transformo em binário\n",
        "\n",
        "def cria_pop_inicial_lista(n, N):\n",
        "\n",
        "  pop_inicial_lista = []\n",
        "  pop_inicial_binaria = []\n",
        "\n",
        "  for i in range(n):\n",
        "    pop_inicial_lista.append(monta_tabuleiro(N))\n",
        "    pop_inicial_binaria.append(tabuleiro_para_binario(pop_inicial_lista[i]))\n",
        "  \n",
        "#   print(pop_inicial_lista)\n",
        "#   print(pop_inicial_binaria)\n",
        "\n",
        "  return pop_inicial_lista\n",
        "\n",
        "\n",
        "pop_inicial_lista = cria_pop_inicial_lista(10, N)\n",
        "pop_inicial_lista"
      ],
      "execution_count": 384,
      "outputs": [
        {
          "output_type": "execute_result",
          "data": {
            "text/plain": [
              "[[1, 1, 0, 0],\n",
              " [2, 3, 3, 2],\n",
              " [1, 3, 1, 2],\n",
              " [3, 0, 2, 1],\n",
              " [1, 3, 3, 3],\n",
              " [1, 0, 3, 3],\n",
              " [2, 1, 1, 3],\n",
              " [0, 3, 1, 0],\n",
              " [1, 3, 1, 3],\n",
              " [0, 3, 2, 1]]"
            ]
          },
          "metadata": {
            "tags": []
          },
          "execution_count": 384
        }
      ]
    },
    {
      "cell_type": "code",
      "metadata": {
        "colab": {
          "base_uri": "https://localhost:8080/"
        },
        "id": "_KOvcyiUtSlG",
        "outputId": "ac8687fa-507e-4057-d093-2710568d2f88"
      },
      "source": [
        "# Essa função percorre todos os elementos da versão em lista da população\n",
        "# inicial e os converte para a representação binária, guardando os elementos\n",
        "# no array \"pop_inicial_binaria\"\n",
        "\n",
        "import math\n",
        "\n",
        "def cria_pop_inicial_binaria(N):\n",
        "\n",
        "  # Preciso saber quantos bits têm os elementos que irão compor o indivíduo\n",
        "  bits = str(int(math.log2(N)))\n",
        "\n",
        "  # Será minha variável de saída no return\n",
        "  pop_inicial_binaria = []\n",
        "\n",
        "  # Instancio localmanente a variável global\n",
        "  pop_inicial = pop_inicial_lista.copy()\n",
        "\n",
        "  # Minha população é composta de indivíduos\n",
        "  for individuo in pop_inicial:\n",
        "\n",
        "    # reinicializo o array para a próxima iteração\n",
        "    array_temp = []\n",
        "\n",
        "    # Meus indivíduos são compostos por colunas. Aqui converto o valor de cada\n",
        "    # coluna de int para a string da representação binária\n",
        "    for coluna in individuo:\n",
        "    \n",
        "      # format é um método de string, converte arg[0] para o formato de arg[1],\n",
        "      # que defini como sendo um binário de \"bits\" casas.\n",
        "      elemento_binario = format(coluna, '0' + bits + 'b')\n",
        "\n",
        "      # array_temp só serve para guardar todos os elementos convertidos no loop.\n",
        "      # Por enquanto, eu ainda tenho um array de representações binárias, mas \n",
        "      # meu indivíduo deveria ser apenas uma string só. Ao sair do for, os \n",
        "      # elementos da lista serão unidos nessa única string.\n",
        "      array_temp.append(elemento_binario)\n",
        "    \n",
        "    # Saí do for mais interno, agora posso unir todos os elementos em um único\n",
        "    # indivíduo e colocá-lo no array pop_inicial_binaria. ''.join concatena\n",
        "    # todos os elementos do array passado como parâmetro com o caractere entre \n",
        "    # aspas entre cada elemento, no caso, o caractere que passei é a string vazia\n",
        "    individuo_binario = ''.join(array_temp)\n",
        "    pop_inicial_binaria.append(individuo_binario) \n",
        "\n",
        "  return pop_inicial_binaria\n",
        "\n",
        "binario = cria_pop_inicial_binaria(N)\n",
        "binario"
      ],
      "execution_count": 385,
      "outputs": [
        {
          "output_type": "execute_result",
          "data": {
            "text/plain": [
              "['01010000',\n",
              " '10111110',\n",
              " '01110110',\n",
              " '11001001',\n",
              " '01111111',\n",
              " '01001111',\n",
              " '10010111',\n",
              " '00110100',\n",
              " '01110111',\n",
              " '00111001']"
            ]
          },
          "metadata": {
            "tags": []
          },
          "execution_count": 385
        }
      ]
    },
    {
      "cell_type": "markdown",
      "metadata": {
        "id": "KOuiKS8E57rN"
      },
      "source": [
        "Percebi que não me atentei ao enunciado... Ele pede para fazer uma função que funcione com os dois tipos de indivíduos. Eu fiz duas funções, mas a segunda é feita em função da primeira. Os índices dos arrays pop_inicial_lista e pop_inicial_binaria vão retornar o mesmo indivíduo, porém em representações diferentes.\n",
        "\n",
        "==> Ele quer então que geremos uma população aleatória em decimal, e OUTRA população aleatória em binário? A interpretação desse enunciado que está me complicando... perguntei no grupo e o monitor disse: \"pode fazer ela receber um parâmetro especificando o tipo de indivíduo que quem chamou quer na resposta, e retornar n desses\", o que acha?\n",
        "\n",
        "E eu posso ter entendido errado esse código, então desculpa qualquer coisa, mas ele está fazendo o mesmo que a célula acima na linha 21?"
      ]
    },
    {
      "cell_type": "markdown",
      "metadata": {
        "id": "EWkuWjjpRJUb"
      },
      "source": [
        "##3. **Operadores: Para os dois tipos de indivíduos definidos acima:**"
      ]
    },
    {
      "cell_type": "markdown",
      "metadata": {
        "id": "Iz-bK_dmRaMj"
      },
      "source": [
        "###(a) Defina a função de adaptação usada para avaliar um tabuleiro T."
      ]
    },
    {
      "cell_type": "code",
      "metadata": {
        "id": "mxh3YsruUDyC"
      },
      "source": [
        "# Caso tenham rainhas na mesma linha, aumenta o valor da variável \"ataque\"\n",
        "def checa_linha(tabuleiro):\n",
        "\n",
        "    ataques = 0\n",
        "\n",
        "    for coluna in range(len(tabuleiro)):\n",
        "\n",
        "        linha_rainha = tabuleiro[coluna]\n",
        "\n",
        "        for coluna_vizinha in range(1, len(tabuleiro) - coluna):\n",
        "\n",
        "            posicao_coluna_atual = coluna + coluna_vizinha\n",
        "\n",
        "            if tabuleiro[posicao_coluna_atual] == linha_rainha:\n",
        "                ataques += 1\n",
        "    \n",
        "    return ataques"
      ],
      "execution_count": 386,
      "outputs": []
    },
    {
      "cell_type": "code",
      "metadata": {
        "id": "Vvqx9WsPYBIZ"
      },
      "source": [
        "# Para cada rainha, verifica se há outras rainhas em sua diagonal superior\n",
        "def checa_diagonal_superior(tabuleiro):\n",
        "\n",
        "    ataques = 0\n",
        "\n",
        "    for coluna in range(len(tabuleiro)):\n",
        "\n",
        "        linha_rainha = tabuleiro[coluna]\n",
        "        # como há a restrição de apenas uma rainha por coluna, só é preciso verificar as colunas à esquerda\n",
        "        for coluna_vizinha in range(1, len(tabuleiro) - coluna):\n",
        "\n",
        "            posicao_coluna_atual = coluna + coluna_vizinha\n",
        "\n",
        "            if tabuleiro[posicao_coluna_atual] == (linha_rainha - coluna_vizinha):\n",
        "                ataques += 1\n",
        "    \n",
        "    return ataques"
      ],
      "execution_count": 387,
      "outputs": []
    },
    {
      "cell_type": "code",
      "metadata": {
        "id": "5rhqfqW0YE9j"
      },
      "source": [
        "# Para cada rainha, verifica se há outras rainhas em sua diagonal inferior\n",
        "def checa_diagonal_inferior(tabuleiro):\n",
        "\n",
        "    ataques = 0\n",
        "\n",
        "    for coluna in range(len(tabuleiro)):\n",
        "\n",
        "        linha_rainha = tabuleiro[coluna]\n",
        "\n",
        "        for coluna_vizinha in range(1, len(tabuleiro) - coluna):\n",
        "            # como há a restrição de apenas uma rainha por coluna, só é preciso verificar as colunas à esquerda\n",
        "            posicao_coluna_atual = coluna + coluna_vizinha\n",
        "\n",
        "            if tabuleiro[posicao_coluna_atual] == (linha_rainha + coluna_vizinha):\n",
        "                ataques += 1\n",
        "    \n",
        "    return ataques"
      ],
      "execution_count": 388,
      "outputs": []
    },
    {
      "cell_type": "code",
      "metadata": {
        "id": "3L2Ce7FFYH_c"
      },
      "source": [
        "# Heurística h(x). Conta a quantidade total de ataques no tabuleiro, fazendo o somatório de todos os ataques possíveis\n",
        "# nas linhas e diagonais de cada rainha.\n",
        "def conta_ataques(tabuleiro):\n",
        "\n",
        "    total_ataques = 0\n",
        "    ataques_diagonal_total = 0\n",
        "\n",
        "    ataques_diagonal_superior = checa_diagonal_superior(tabuleiro)\n",
        "    ataques_diagonal_inferior = checa_diagonal_inferior(tabuleiro)\n",
        "\n",
        "    ataques_diagonal_total += ataques_diagonal_superior + ataques_diagonal_inferior\n",
        "    \n",
        "    total_ataques += checa_linha(tabuleiro) + ataques_diagonal_total\n",
        "\n",
        "    return total_ataques"
      ],
      "execution_count": 389,
      "outputs": []
    },
    {
      "cell_type": "code",
      "metadata": {
        "id": "E5UwhOltYMgO"
      },
      "source": [
        "# Heurística h(x). Conta a quantidade total de ataques no tabuleiro, fazendo o somatório de todos os ataques possíveis\n",
        "# nas linhas e diagonais de cada rainha.\n",
        "def conta_ataques(tabuleiro):\n",
        "\n",
        "    total_ataques = 0\n",
        "    ataques_diagonal_total = 0\n",
        "\n",
        "    ataques_diagonal_superior = checa_diagonal_superior(tabuleiro)\n",
        "    ataques_diagonal_inferior = checa_diagonal_inferior(tabuleiro)\n",
        "\n",
        "    ataques_diagonal_total += ataques_diagonal_superior + ataques_diagonal_inferior\n",
        "    \n",
        "    total_ataques += checa_linha(tabuleiro) + ataques_diagonal_total\n",
        "\n",
        "    return total_ataques"
      ],
      "execution_count": 390,
      "outputs": []
    },
    {
      "cell_type": "code",
      "metadata": {
        "colab": {
          "base_uri": "https://localhost:8080/"
        },
        "id": "hSBJQsyLYQNL",
        "outputId": "c4d330b0-d1c0-496f-c4dc-da4902a62987"
      },
      "source": [
        "# print(checa_linha(tabuleiro))\n",
        "# print(checa_diagonal_superior(tabuleiro))\n",
        "# print(checa_diagonal_inferior(tabuleiro))\n",
        "print(\"O total de ataques para o tabuleiro \" + str(tabuleiro) \n",
        "      + \" é igual à \" + str(conta_ataques(tabuleiro)))\n",
        "print(\"Sendo o tabuleiro \" + str(tabuleiro) + \" o indivíduo \"\n",
        "      + str(tabuleiro_para_binario(tabuleiro)))"
      ],
      "execution_count": 391,
      "outputs": [
        {
          "output_type": "stream",
          "text": [
            "O total de ataques para o tabuleiro [3, 2, 1, 0] é igual à 6\n",
            "Sendo o tabuleiro [3, 2, 1, 0] o indivíduo 11100100\n"
          ],
          "name": "stdout"
        }
      ]
    },
    {
      "cell_type": "markdown",
      "metadata": {
        "id": "MYKy_HjDo0e4"
      },
      "source": [
        "\n",
        "[Comentário informal] Para nós, quanto mais perto de 0 um valor da lista_funcao_avaliacao for melhor, pois significa que estamos perto de encontrar uma solução (onde não há ataques entre rainhas), então eu mudei nossa função de avaliação, ao invés do valor negativo do número de ataques, para (1/ número de ataques + 1), assim quanto mais ataques, menor o valor da função avaliação. Tirei essa ideia da página 15 do slide 1 de algoritmo \n",
        "genético.\n",
        "\n",
        "Essas variáveis que mencionei aparecem nas células abaixo."
      ]
    },
    {
      "cell_type": "code",
      "metadata": {
        "id": "p65yDNhFYXrj"
      },
      "source": [
        "def calcula_f(tabuleiro):\n",
        "    return 1/ (conta_ataques(tabuleiro) + 1)"
      ],
      "execution_count": 392,
      "outputs": []
    },
    {
      "cell_type": "markdown",
      "metadata": {
        "id": "QcPlFsKlRjq5"
      },
      "source": [
        "###(b) Defina a função que dada uma população P, constrói a roleta viciada correspondente a P."
      ]
    },
    {
      "cell_type": "code",
      "metadata": {
        "colab": {
          "base_uri": "https://localhost:8080/"
        },
        "id": "1n9A3BdjUEbo",
        "outputId": "991e1337-6723-4422-b1ee-c9127bb5e604"
      },
      "source": [
        "def funcao_avaliacao_pop_inicial():\n",
        "\n",
        "    lista_populacao = pop_inicial_lista.copy()\n",
        "    lista_funcao_avaliacao = []\n",
        "\n",
        "    for i in range(len(lista_populacao)):\n",
        "        # print(calcula_f(lista_populacao[i]))\n",
        "        lista_funcao_avaliacao.append(calcula_f(lista_populacao[i]))\n",
        "\n",
        "    return lista_funcao_avaliacao\n",
        "\n",
        "\n",
        "lista_funcao_avaliacao = funcao_avaliacao_pop_inicial()\n",
        "lista_funcao_avaliacao"
      ],
      "execution_count": 393,
      "outputs": [
        {
          "output_type": "execute_result",
          "data": {
            "text/plain": [
              "[0.25,\n",
              " 0.2,\n",
              " 0.3333333333333333,\n",
              " 0.5,\n",
              " 0.2,\n",
              " 0.25,\n",
              " 0.25,\n",
              " 0.3333333333333333,\n",
              " 0.3333333333333333,\n",
              " 0.2]"
            ]
          },
          "metadata": {
            "tags": []
          },
          "execution_count": 393
        }
      ]
    },
    {
      "cell_type": "code",
      "metadata": {
        "colab": {
          "base_uri": "https://localhost:8080/"
        },
        "id": "avYw5AzPf9P5",
        "outputId": "290ff2e8-8341-4e51-8c4b-d01a7b8e6719"
      },
      "source": [
        "def cria_proporcao_roleta():\n",
        "\n",
        "    soma = 0\n",
        "    lista_proporcao_roleta = []\n",
        "\n",
        "    for i in range(len(lista_funcao_avaliacao)):\n",
        "        soma += lista_funcao_avaliacao[i]\n",
        "\n",
        "    for i in range(len(lista_funcao_avaliacao)):\n",
        "        porcentagem = lista_funcao_avaliacao[i]/ soma * 100\n",
        "        # print(round(porcentagem, 2))\n",
        "        porcentagem_arredondada = round(porcentagem, 2)\n",
        "        lista_proporcao_roleta.append(porcentagem_arredondada)\n",
        "    \n",
        "    return lista_proporcao_roleta\n",
        "\n",
        "\n",
        "lista_proporcao_roleta = cria_proporcao_roleta()\n",
        "lista_proporcao_roleta"
      ],
      "execution_count": 394,
      "outputs": [
        {
          "output_type": "execute_result",
          "data": {
            "text/plain": [
              "[8.77, 7.02, 11.7, 17.54, 7.02, 8.77, 8.77, 11.7, 11.7, 7.02]"
            ]
          },
          "metadata": {
            "tags": []
          },
          "execution_count": 394
        }
      ]
    },
    {
      "cell_type": "markdown",
      "metadata": {
        "id": "oJ_rhIVN392W"
      },
      "source": [
        "[Comentário informal] Aqui eu chamo os indivíduos de 1 à 10, como o professor faz no slide. Não acho que seja uma representação ruim, mas quando gerarmos a tabela para a população intermediária, não sei se ele vai colocar\n",
        "5 - 7 - 5 - 8 - 9 - 5 - 5 - 7, por exemplo, ou se ele vai numerar de 1 à 10 também. Talvez criar um dicionário para a população inicial funcione\n",
        "{1: [individuo1], 2: [individuo2]}, e aí na tabela da população intermediária nós já teríamos que o [individuo5] precisa aparecer como \"5\", mesmo ele aparecendo primeiro no exemplo acima. Infelizmente não tive tempo para testar essa ideia."
      ]
    },
    {
      "cell_type": "code",
      "metadata": {
        "colab": {
          "base_uri": "https://localhost:8080/",
          "height": 359
        },
        "id": "PQClqlljapo5",
        "outputId": "3d1ee0be-20b9-499e-a5a9-293258d8e434"
      },
      "source": [
        "import pandas as pd\n",
        "\n",
        "populacao_dataframe = pd.DataFrame(lista_funcao_avaliacao)\n",
        "populacao_dataframe[\"Proporção da roleta\"] = lista_proporcao_roleta\n",
        "populacao_dataframe.index = np.arange(1, len(populacao_dataframe) + 1)\n",
        "populacao_dataframe.rename_axis(\"Indivíduo\", axis=\"columns\", inplace=True)\n",
        "populacao_dataframe.rename(columns= {0: \"Função de avaliação\"}, inplace=True)\n",
        "populacao_dataframe"
      ],
      "execution_count": 418,
      "outputs": [
        {
          "output_type": "execute_result",
          "data": {
            "text/html": [
              "<div>\n",
              "<style scoped>\n",
              "    .dataframe tbody tr th:only-of-type {\n",
              "        vertical-align: middle;\n",
              "    }\n",
              "\n",
              "    .dataframe tbody tr th {\n",
              "        vertical-align: top;\n",
              "    }\n",
              "\n",
              "    .dataframe thead th {\n",
              "        text-align: right;\n",
              "    }\n",
              "</style>\n",
              "<table border=\"1\" class=\"dataframe\">\n",
              "  <thead>\n",
              "    <tr style=\"text-align: right;\">\n",
              "      <th>Indivíduo</th>\n",
              "      <th>Função de avaliação</th>\n",
              "      <th>Proporção da roleta</th>\n",
              "    </tr>\n",
              "  </thead>\n",
              "  <tbody>\n",
              "    <tr>\n",
              "      <th>1</th>\n",
              "      <td>0.250000</td>\n",
              "      <td>8.77</td>\n",
              "    </tr>\n",
              "    <tr>\n",
              "      <th>2</th>\n",
              "      <td>0.200000</td>\n",
              "      <td>7.02</td>\n",
              "    </tr>\n",
              "    <tr>\n",
              "      <th>3</th>\n",
              "      <td>0.333333</td>\n",
              "      <td>11.70</td>\n",
              "    </tr>\n",
              "    <tr>\n",
              "      <th>4</th>\n",
              "      <td>0.500000</td>\n",
              "      <td>17.54</td>\n",
              "    </tr>\n",
              "    <tr>\n",
              "      <th>5</th>\n",
              "      <td>0.200000</td>\n",
              "      <td>7.02</td>\n",
              "    </tr>\n",
              "    <tr>\n",
              "      <th>6</th>\n",
              "      <td>0.250000</td>\n",
              "      <td>8.77</td>\n",
              "    </tr>\n",
              "    <tr>\n",
              "      <th>7</th>\n",
              "      <td>0.250000</td>\n",
              "      <td>8.77</td>\n",
              "    </tr>\n",
              "    <tr>\n",
              "      <th>8</th>\n",
              "      <td>0.333333</td>\n",
              "      <td>11.70</td>\n",
              "    </tr>\n",
              "    <tr>\n",
              "      <th>9</th>\n",
              "      <td>0.333333</td>\n",
              "      <td>11.70</td>\n",
              "    </tr>\n",
              "    <tr>\n",
              "      <th>10</th>\n",
              "      <td>0.200000</td>\n",
              "      <td>7.02</td>\n",
              "    </tr>\n",
              "  </tbody>\n",
              "</table>\n",
              "</div>"
            ],
            "text/plain": [
              "Indivíduo  Função de avaliação  Proporção da roleta\n",
              "1                     0.250000                 8.77\n",
              "2                     0.200000                 7.02\n",
              "3                     0.333333                11.70\n",
              "4                     0.500000                17.54\n",
              "5                     0.200000                 7.02\n",
              "6                     0.250000                 8.77\n",
              "7                     0.250000                 8.77\n",
              "8                     0.333333                11.70\n",
              "9                     0.333333                11.70\n",
              "10                    0.200000                 7.02"
            ]
          },
          "metadata": {
            "tags": []
          },
          "execution_count": 418
        }
      ]
    },
    {
      "cell_type": "code",
      "metadata": {
        "colab": {
          "base_uri": "https://localhost:8080/",
          "height": 1000
        },
        "id": "ne6-xTm_jYCp",
        "outputId": "7626f124-87c3-4fdb-ecab-15034daf00bb"
      },
      "source": [
        "import matplotlib.pyplot as plt\n",
        "import numpy as np\n",
        "\n",
        "lista_proporcao_roleta = np.array(lista_proporcao_roleta)\n",
        "plt.figure(1, figsize=(16, 8))\n",
        "plt.title('Roleta de proporção', fontsize=24)\n",
        "\n",
        "plt.pie(lista_proporcao_roleta, \n",
        "        labels = np.arange(1, len(lista_funcao_avaliacao) + 1),\n",
        "        autopct='%1.2f%%')"
      ],
      "execution_count": 415,
      "outputs": [
        {
          "output_type": "execute_result",
          "data": {
            "text/plain": [
              "([<matplotlib.patches.Wedge at 0x7f3cbbebbe50>,\n",
              "  <matplotlib.patches.Wedge at 0x7f3cbbec86d0>,\n",
              "  <matplotlib.patches.Wedge at 0x7f3cbbecf050>,\n",
              "  <matplotlib.patches.Wedge at 0x7f3cbbecf9d0>,\n",
              "  <matplotlib.patches.Wedge at 0x7f3cbbed85d0>,\n",
              "  <matplotlib.patches.Wedge at 0x7f3cbbed8f90>,\n",
              "  <matplotlib.patches.Wedge at 0x7f3cbbee1610>,\n",
              "  <matplotlib.patches.Wedge at 0x7f3cbbee1f10>,\n",
              "  <matplotlib.patches.Wedge at 0x7f3cbbed82d0>,\n",
              "  <matplotlib.patches.Wedge at 0x7f3cbbed8c90>],\n",
              " [Text(1.0585211870073838, 0.29922048167944565, '1'),\n",
              "  Text(0.7885537536721133, 0.7669308818724281, '2'),\n",
              "  Text(0.23065159092849627, 1.0755463000736667, '3'),\n",
              "  Text(-0.7147277673957729, 0.8361604023830919, '4'),\n",
              "  Text(-1.0953440896546316, 0.10110057002147274, '5'),\n",
              "  Text(-1.011459227382013, -0.43237741770793414, '6'),\n",
              "  Text(-0.6354157542444505, -0.8979124786180199, '7'),\n",
              "  Text(0.029885529150700474, -1.0995939501231273, '8'),\n",
              "  Text(0.7595906298299466, -0.7956268441138378, '9'),\n",
              "  Text(1.07336273097079, -0.24060849478546603, '10')],\n",
              " [Text(0.5773751929131183, 0.16321117182515216, '8.77%'),\n",
              "  Text(0.43012022927569815, 0.4183259355667789, '7.02%'),\n",
              "  Text(0.12580995868827066, 0.5866616182219999, '11.70%'),\n",
              "  Text(-0.3898515094886034, 0.45608749220895917, '17.54%'),\n",
              "  Text(-0.5974604125388898, 0.05514576546625785, '7.02%'),\n",
              "  Text(-0.5517050331174617, -0.2358422278406913, '8.77%'),\n",
              "  Text(-0.3465904114060639, -0.4897704428825563, '8.77%'),\n",
              "  Text(0.016301197718563892, -0.5997785182489785, '11.70%'),\n",
              "  Text(0.4143221617254254, -0.43397827860754784, '11.70%'),\n",
              "  Text(0.5854705805295217, -0.13124099715570872, '7.02%')])"
            ]
          },
          "metadata": {
            "tags": []
          },
          "execution_count": 415
        },
        {
          "output_type": "display_data",
          "data": {
            "image/png": "[encoded data removed]",
            "text/plain": [
              "<Figure size 1152x576 with 1 Axes>"
            ]
          },
          "metadata": {
            "tags": []
          }
        }
      ]
    },
    {
      "cell_type": "markdown",
      "metadata": {
        "id": "nGwu6WsYRtB7"
      },
      "source": [
        "###(c) Defina a função que dada uma população P contrói uma população intermediária correspondente a P. (**seleção**)\n"
      ]
    },
    {
      "cell_type": "code",
      "metadata": {
        "colab": {
          "base_uri": "https://localhost:8080/"
        },
        "id": "T02T0kTGUFNv",
        "outputId": "a285c3cf-7bb6-449b-9fe5-4dcbb8a1cdb7"
      },
      "source": [
        "# Ideia:\n",
        "# Colocar em uma nova lista um número X de vezes que determinado indivíduo aparece com base na sua proporção\n",
        "# Por exemplo\n",
        "# O indivíduo 1 possui 10,63% de proporção da roleta\n",
        "# Transformamos esse 10,63 para int, que se torna 11\n",
        "# Então, acrescentamos 11 vezes na lista nova o indivíduo 1\n",
        "# Dessa forma, a lista 1 vai ter aproximadamente 100 elementos no final\n",
        "# E então fazemos um rand dentro dessa lista nova \n",
        "# Obtendo assim a população intermediária\n",
        "# A probabilidade de um indivíduo com maior proporção da roleta ser selecionado se torna natural\n",
        "# Já que isso significa que ele aparecerá um maior número de vezes na nova lista\n",
        "# Chamo essa nova lista de populacao_intermediaria para ficar de acordo com os slides\n",
        "\n",
        "def selecao():\n",
        "\n",
        "    populacao_com_base_na_proporcao = []\n",
        "    populacao_intermediaria = []\n",
        "\n",
        "    for individuo in range(len(pop_inicial_lista)):\n",
        "        for proporcao in range(int(round(lista_proporcao_roleta[individuo], 0))):\n",
        "            # print(pop_inicial_lista[individuo])\n",
        "            populacao_com_base_na_proporcao.append(pop_inicial_lista[individuo])\n",
        "    \n",
        "    # print(populacao_com_base_na_proporcao)\n",
        "\n",
        "    for i in range(len(pop_inicial_lista)):\n",
        "        individuo_aleatorio = random.randint(0, len(populacao_com_base_na_proporcao))\n",
        "        populacao_intermediaria.append(populacao_com_base_na_proporcao[individuo_aleatorio])\n",
        "\n",
        "    return populacao_intermediaria\n",
        "\n",
        "\n",
        "selecao()"
      ],
      "execution_count": 416,
      "outputs": [
        {
          "output_type": "execute_result",
          "data": {
            "text/plain": [
              "[[1, 3, 1, 2],\n",
              " [3, 0, 2, 1],\n",
              " [2, 3, 3, 2],\n",
              " [1, 3, 1, 3],\n",
              " [1, 3, 1, 2],\n",
              " [1, 1, 0, 0],\n",
              " [1, 3, 1, 2],\n",
              " [0, 3, 1, 0],\n",
              " [1, 3, 1, 3],\n",
              " [1, 3, 1, 2]]"
            ]
          },
          "metadata": {
            "tags": []
          },
          "execution_count": 416
        }
      ]
    },
    {
      "cell_type": "markdown",
      "metadata": {
        "id": "ztJ6ugyeR3u_"
      },
      "source": [
        "###(d) Defina a função que faz o crossover entre dois indivíduos. (**crossover**)"
      ]
    },
    {
      "cell_type": "code",
      "metadata": {
        "colab": {
          "base_uri": "https://localhost:8080/"
        },
        "id": "nYH8aA3fSW74",
        "outputId": "f368a8cb-132c-4e2a-d9f4-58a20efb9caf"
      },
      "source": [
        "# Função que realiza o crossover entre dois indivíduos. A probabilidade de \n",
        "# crossover é definida na chamada da função, não no método em si.\n",
        "# =====> em aula ele disse que 70~80% de crossover\n",
        "# A ideia da função é pegar dois indivíduos, sortear um número entre 1 e \n",
        "# len(individuo) -1, pegar a substring de 0 até o indice sorteado e concatenar com\n",
        "# a substring de indice até fim do outro indivíduo\n",
        "\n",
        "def crossover(individuoA, individuoB):\n",
        "  \n",
        "  # variável de retorno com os indivíduos que sofreram crossover.\n",
        "  novos_individuos = []\n",
        "\n",
        "  indice = random.randint(1, len(individuoA)-1)\n",
        "\n",
        "  substringA_inicio = individuoA[0:indice]\n",
        "  substringA_fim = individuoA[(indice):]\n",
        "\n",
        "  substringB_inicio = individuoB[0:indice]\n",
        "  substringB_fim = individuoB[(indice):]\n",
        "\n",
        "  crossover1 = substringA_inicio + substringB_fim\n",
        "  crossover2 = substringB_inicio + substringA_fim\n",
        "\n",
        "  novos_individuos.append(crossover1)\n",
        "  novos_individuos.append(crossover2)  \n",
        "\n",
        "  print(\"Índice sorteado: \" + str(indice))\n",
        "  print(\"Crossover 1: \" + crossover1)\n",
        "  print(\"Crossover 2: \" + crossover2)\n",
        "\n",
        "  return novos_individuos\n",
        "\n",
        "crossover(\"00000000\", \"11111111\")"
      ],
      "execution_count": 398,
      "outputs": [
        {
          "output_type": "stream",
          "text": [
            "Índice sorteado: 3\n",
            "Crossover 1: 00011111\n",
            "Crossover 2: 11100000\n"
          ],
          "name": "stdout"
        },
        {
          "output_type": "execute_result",
          "data": {
            "text/plain": [
              "['00011111', '11100000']"
            ]
          },
          "metadata": {
            "tags": []
          },
          "execution_count": 398
        }
      ]
    },
    {
      "cell_type": "markdown",
      "metadata": {
        "id": "fkEysUosSGPb"
      },
      "source": [
        "###(e) Defina a função que faz a mutação em um dado indivíduo. (**mutação**)"
      ]
    },
    {
      "cell_type": "code",
      "metadata": {
        "colab": {
          "base_uri": "https://localhost:8080/",
          "height": 375
        },
        "id": "GTUdR0kSXFiW",
        "outputId": "f119f116-95d3-4170-b00e-3377d0ed54c1"
      },
      "source": [
        "# Função que realiza a mutação em um dado indivíduo, dada uma taxa percentual\n",
        "# (entre 1 e 100), a probabilidade de mutação é aplicada sobre cada caractere \n",
        "# da string do indivíduo.\n",
        "# =====> em aula ele disse que 0~3% de mutação\n",
        "# A mutação é feita pegando o módulo da subtração do bit por 1. \n",
        "# Para o bit 0: |0 - 1| = | -1 | = 1\n",
        "# Para o bit 1: |1 - 1| = |  0 | = 0 \n",
        "\n",
        "def mutacao(individuo, percentual):\n",
        "    \n",
        "    novo_individuo = \"\"\n",
        "    \n",
        "    for caractere in individuo:\n",
        "        sorteio = random.randint(1, 100)\n",
        "        \n",
        "        if sorteio <= percentual:\n",
        "            caractere = str(abs(int(caractere) -1))\n",
        "            print(\"Houve mutação\")\n",
        "    \n",
        "        print(caractere)\n",
        "    \n",
        "        novo_individuo += caractere\n",
        "  \n",
        "    return novo_individuo\n",
        "\n",
        "\n",
        "mutacao(\"0000000000\", 100)\n",
        "# Coloquei uma proporção alta só para testar\n",
        "# Eu posso estar errado, mas acredito que a mutação só possa ocorrer 1 vez\n",
        "# Então, após a primeira mutação, a função já deveria parar\n",
        "# Não estamos fazendo isso, mas minha lógica está errada?"
      ],
      "execution_count": 399,
      "outputs": [
        {
          "output_type": "stream",
          "text": [
            "Houve mutação\n",
            "1\n",
            "Houve mutação\n",
            "1\n",
            "Houve mutação\n",
            "1\n",
            "Houve mutação\n",
            "1\n",
            "Houve mutação\n",
            "1\n",
            "Houve mutação\n",
            "1\n",
            "Houve mutação\n",
            "1\n",
            "Houve mutação\n",
            "1\n",
            "Houve mutação\n",
            "1\n",
            "Houve mutação\n",
            "1\n"
          ],
          "name": "stdout"
        },
        {
          "output_type": "execute_result",
          "data": {
            "application/vnd.google.colaboratory.intrinsic+json": {
              "type": "string"
            },
            "text/plain": [
              "'1111111111'"
            ]
          },
          "metadata": {
            "tags": []
          },
          "execution_count": 399
        }
      ]
    },
    {
      "cell_type": "markdown",
      "metadata": {
        "id": "hPKCklHUUe3c"
      },
      "source": [
        "## 4. **Algoritmo Genético Básico**"
      ]
    },
    {
      "cell_type": "markdown",
      "metadata": {
        "id": "Tru3onOGuhdt"
      },
      "source": [
        "### Implementação"
      ]
    },
    {
      "cell_type": "code",
      "metadata": {
        "id": "lwLUI7CputEy"
      },
      "source": [
        ""
      ],
      "execution_count": 399,
      "outputs": []
    },
    {
      "cell_type": "markdown",
      "metadata": {
        "id": "vTdUK9xDutPr"
      },
      "source": [
        "### Gráfico geração x função de adaptação do melhor indivíduo da geração"
      ]
    },
    {
      "cell_type": "code",
      "metadata": {
        "id": "dECxgBDtu1jE"
      },
      "source": [
        ""
      ],
      "execution_count": 399,
      "outputs": []
    },
    {
      "cell_type": "markdown",
      "metadata": {
        "id": "2NFwe9dyu1t1"
      },
      "source": [
        "### Gráfico geração × média da função de adaptação dos indivíduos da geração"
      ]
    },
    {
      "cell_type": "code",
      "metadata": {
        "id": "yT-GYzxFu14J"
      },
      "source": [
        ""
      ],
      "execution_count": 399,
      "outputs": []
    },
    {
      "cell_type": "markdown",
      "metadata": {
        "id": "HjMscdB-US6q"
      },
      "source": [
        "# Hill Climbing"
      ]
    },
    {
      "cell_type": "markdown",
      "metadata": {
        "id": "myyJ6r8oQc2K"
      },
      "source": [
        "### (b) Defina uma função que dado um tabuleiro qualquer, retorna todos os seus vizinhos."
      ]
    },
    {
      "cell_type": "code",
      "metadata": {
        "id": "S8G-spa0Qfsr",
        "colab": {
          "base_uri": "https://localhost:8080/"
        },
        "outputId": "00c834c2-d37c-464c-d801-d097bb0f091c"
      },
      "source": [
        "def gera_todos_vizinhos(tabuleiro):\n",
        "\n",
        "    vizinhos = []\n",
        "   \n",
        "    # Percorre as posições da lista tabuleiro\n",
        "    for coluna in range(len(tabuleiro)):\n",
        "        \n",
        "        # Verifica se os valores da posição \"linha\" são diferentes de\n",
        "        # todas as possibilidades de 0 até (N-1)\n",
        "        for linha in range(len(tabuleiro)):\n",
        "\n",
        "            copia_tabuleiro = tabuleiro.copy()\n",
        "\n",
        "            if linha != copia_tabuleiro[coluna]:\n",
        "                copia_tabuleiro[coluna] = linha\n",
        "                \n",
        "                # Quando o tabuleiro da iteração for diferente do tabuleiro inicial\n",
        "                # o consideramos um vizinhos, e o acrescentamos à lista vizinhos\n",
        "                if copia_tabuleiro != tabuleiro:\n",
        "                    # print(copia_tabuleiro)\n",
        "                    vizinhos.append(copia_tabuleiro)\n",
        "    \n",
        "    return vizinhos\n",
        "\n",
        "\n",
        "vizinhos = gera_todos_vizinhos(tabuleiro)\n",
        "print(\"Vizinhos do tabuleiro \" + str(tabuleiro) + \":\\n\")\n",
        "vizinhos"
      ],
      "execution_count": 400,
      "outputs": [
        {
          "output_type": "stream",
          "text": [
            "Vizinhos do tabuleiro [3, 2, 1, 0]:\n",
            "\n"
          ],
          "name": "stdout"
        },
        {
          "output_type": "execute_result",
          "data": {
            "text/plain": [
              "[[0, 2, 1, 0],\n",
              " [1, 2, 1, 0],\n",
              " [2, 2, 1, 0],\n",
              " [3, 0, 1, 0],\n",
              " [3, 1, 1, 0],\n",
              " [3, 3, 1, 0],\n",
              " [3, 2, 0, 0],\n",
              " [3, 2, 2, 0],\n",
              " [3, 2, 3, 0],\n",
              " [3, 2, 1, 1],\n",
              " [3, 2, 1, 2],\n",
              " [3, 2, 1, 3]]"
            ]
          },
          "metadata": {
            "tags": []
          },
          "execution_count": 400
        }
      ]
    },
    {
      "cell_type": "markdown",
      "metadata": {
        "id": "lsH-hEefQhVk"
      },
      "source": [
        "### (c) Defina uma função que dado um tabuleiro qualquer, retorna um de seus vizinhos. A escolha do vizinho a ser retornado pela função deve ser aleatória."
      ]
    },
    {
      "cell_type": "code",
      "metadata": {
        "id": "oOkf0HJHQotb",
        "colab": {
          "base_uri": "https://localhost:8080/"
        },
        "outputId": "aaff5cf4-35d8-4c43-a0bb-84b942b011bd"
      },
      "source": [
        "def gera_vizinho_aleatorio(tabuleiro, vizinhos):\n",
        "\n",
        "    indice_vizinho_aleatorio = random.randint(0, len(vizinhos) - 1)\n",
        "    # print(indice_vizinho_aleatorio)\n",
        "\n",
        "    vizinho_aleatorio = vizinhos[indice_vizinho_aleatorio]\n",
        "\n",
        "    return vizinho_aleatorio\n",
        "\n",
        "\n",
        "gera_vizinho_aleatorio(tabuleiro, vizinhos)"
      ],
      "execution_count": 401,
      "outputs": [
        {
          "output_type": "execute_result",
          "data": {
            "text/plain": [
              "[3, 3, 1, 0]"
            ]
          },
          "metadata": {
            "tags": []
          },
          "execution_count": 401
        }
      ]
    },
    {
      "cell_type": "markdown",
      "metadata": {
        "id": "oKKICWA4QuKZ"
      },
      "source": [
        "### (d) Defina uma função que dado um tabuleiro qualquer, retorna a avaliação deste tabuleiro (número de ataques entre rainhas)."
      ]
    },
    {
      "cell_type": "markdown",
      "metadata": {
        "id": "2JvuUaiVkszO"
      },
      "source": [
        "A heurísitca utilizada é a mesma apresentada nos slides e no material de leitura. Ela se trata do somatório da quantidade de ataques possíveis entre todas as rainhas."
      ]
    },
    {
      "cell_type": "code",
      "metadata": {
        "id": "O6zH7FVvQ0Yn"
      },
      "source": [
        "# Caso tenham rainhas na mesma linha, aumenta o valor da variável \"ataque\"\n",
        "def checa_linha(tabuleiro):\n",
        "\n",
        "    ataques = 0\n",
        "\n",
        "    for coluna in range(len(tabuleiro)):\n",
        "\n",
        "        linha_rainha = tabuleiro[coluna]\n",
        "\n",
        "        for coluna_vizinha in range(1, len(tabuleiro) - coluna):\n",
        "\n",
        "            posicao_coluna_atual = coluna + coluna_vizinha\n",
        "\n",
        "            if tabuleiro[posicao_coluna_atual] == linha_rainha:\n",
        "                ataques += 1\n",
        "    \n",
        "    return ataques"
      ],
      "execution_count": 402,
      "outputs": []
    },
    {
      "cell_type": "code",
      "metadata": {
        "id": "3gfjyVRSlGke"
      },
      "source": [
        "# Para cada rainha, verifica se há outras rainhas em sua diagonal superior\n",
        "def checa_diagonal_superior(tabuleiro):\n",
        "\n",
        "    ataques = 0\n",
        "\n",
        "    for coluna in range(len(tabuleiro)):\n",
        "\n",
        "        linha_rainha = tabuleiro[coluna]\n",
        "        # como há a restrição de apenas uma rainha por coluna, só é preciso verificar as colunas à esquerda\n",
        "        for coluna_vizinha in range(1, len(tabuleiro) - coluna):\n",
        "\n",
        "            posicao_coluna_atual = coluna + coluna_vizinha\n",
        "\n",
        "            if tabuleiro[posicao_coluna_atual] == (linha_rainha - coluna_vizinha):\n",
        "                ataques += 1\n",
        "    \n",
        "    return ataques"
      ],
      "execution_count": 403,
      "outputs": []
    },
    {
      "cell_type": "code",
      "metadata": {
        "id": "P52wr6f0ocr7"
      },
      "source": [
        "# Para cada rainha, verifica se há outras rainhas em sua diagonal inferior\n",
        "def checa_diagonal_inferior(tabuleiro):\n",
        "\n",
        "    ataques = 0\n",
        "\n",
        "    for coluna in range(len(tabuleiro)):\n",
        "\n",
        "        linha_rainha = tabuleiro[coluna]\n",
        "\n",
        "        for coluna_vizinha in range(1, len(tabuleiro) - coluna):\n",
        "            # como há a restrição de apenas uma rainha por coluna, só é preciso verificar as colunas à esquerda\n",
        "            posicao_coluna_atual = coluna + coluna_vizinha\n",
        "\n",
        "            if tabuleiro[posicao_coluna_atual] == (linha_rainha + coluna_vizinha):\n",
        "                ataques += 1\n",
        "    \n",
        "    return ataques"
      ],
      "execution_count": 404,
      "outputs": []
    },
    {
      "cell_type": "code",
      "metadata": {
        "id": "e3OpTpxclH61"
      },
      "source": [
        "# Heurística h(x). Conta a quantidade total de ataques no tabuleiro, fazendo o somatório de todos os ataques possíveis\n",
        "# nas linhas e diagonais de cada rainha.\n",
        "def conta_ataques(tabuleiro):\n",
        "\n",
        "    total_ataques = 0\n",
        "    ataques_diagonal_total = 0\n",
        "\n",
        "    ataques_diagonal_superior = checa_diagonal_superior(tabuleiro)\n",
        "    ataques_diagonal_inferior = checa_diagonal_inferior(tabuleiro)\n",
        "\n",
        "    ataques_diagonal_total += ataques_diagonal_superior + ataques_diagonal_inferior\n",
        "    \n",
        "    total_ataques += checa_linha(tabuleiro) + ataques_diagonal_total\n",
        "\n",
        "    return total_ataques"
      ],
      "execution_count": 405,
      "outputs": []
    },
    {
      "cell_type": "code",
      "metadata": {
        "colab": {
          "base_uri": "https://localhost:8080/"
        },
        "id": "Sqo8-5EAwNdM",
        "outputId": "08eb1e02-c175-40b6-e60a-68b0552356c6"
      },
      "source": [
        "# print(checa_linha(tabuleiro))\n",
        "# print(checa_diagonal_superior(tabuleiro))\n",
        "# print(checa_diagonal_inferior(tabuleiro))\n",
        "print(\"O total de ataques para o tabuleiro \" + str(tabuleiro) \n",
        "      + \" é igual à \" + str(conta_ataques(tabuleiro)))"
      ],
      "execution_count": 406,
      "outputs": [
        {
          "output_type": "stream",
          "text": [
            "O total de ataques para o tabuleiro [3, 2, 1, 0] é igual à 6\n"
          ],
          "name": "stdout"
        }
      ]
    },
    {
      "cell_type": "markdown",
      "metadata": {
        "id": "pFhvJCArSJ0x"
      },
      "source": [
        "## Hill Climbing"
      ]
    },
    {
      "cell_type": "markdown",
      "metadata": {
        "id": "MkzDI4odDHQ7"
      },
      "source": [
        "### (a) Implemente uma versão do algoritmo Hill Climbing, onde o tabuleiro sucessor do tabuleiro corrente será o primeiro vizinho dele (tabuleiro corrente) que tem uma avaliação melhor."
      ]
    },
    {
      "cell_type": "code",
      "metadata": {
        "id": "l2DSVzPPF8dV"
      },
      "source": [
        "# a função de avaliação é f(x) = -h(x), poir o Hill Climbing é um algoritmo de maximização\n",
        "def calcula_f(tabuleiro):\n",
        "    return conta_ataques(tabuleiro) * (-1)"
      ],
      "execution_count": 407,
      "outputs": []
    },
    {
      "cell_type": "code",
      "metadata": {
        "id": "ved45mLDWcjh",
        "colab": {
          "base_uri": "https://localhost:8080/"
        },
        "outputId": "b00f91a1-446a-48b6-91c5-2aad3e23e78a"
      },
      "source": [
        "# retorna o primeiro tabuleiro da lista de vizinhos encontrados que tem uma melhor avaliação em\n",
        "# relação ao parâmetro \"tabuleiro\".\n",
        "def melhor_vizinho(tabuleiro):\n",
        "\n",
        "    melhor = tabuleiro.copy()\n",
        "    f_melhor = calcula_f(melhor)\n",
        "    copia_vizinhos = gera_todos_vizinhos(melhor)\n",
        "    # print(copia_vizinhos)\n",
        "    # print(f_melhor)\n",
        "\n",
        "    for vizinho in range(len(copia_vizinhos)):\n",
        "\n",
        "        f_vizinho = calcula_f(copia_vizinhos[vizinho])\n",
        "        # print(calcula_f(vizinhos[vizinho]))\n",
        "\n",
        "        if f_vizinho > f_melhor:\n",
        "            melhor = copia_vizinhos[vizinho]\n",
        "            f_melhor = calcula_f(melhor)\n",
        "            return melhor\n",
        "\n",
        "    return melhor\n",
        "\n",
        "melhor_vizinho(tabuleiro)"
      ],
      "execution_count": 408,
      "outputs": [
        {
          "output_type": "execute_result",
          "data": {
            "text/plain": [
              "[0, 2, 1, 0]"
            ]
          },
          "metadata": {
            "tags": []
          },
          "execution_count": 408
        }
      ]
    },
    {
      "cell_type": "code",
      "metadata": {
        "id": "d9Hw-MJ5LbRh",
        "colab": {
          "base_uri": "https://localhost:8080/",
          "height": 35
        },
        "outputId": "b47f9ad2-6525-4466-b288-e77ce759a6bc"
      },
      "source": [
        "# implementação do algoritmo do Hillclimbing, apresentado em sala de aula.\n",
        "# essa versão considera o primeiro vizinho com melhor valor de f.\n",
        "def hill_climbing(tabuleiro):\n",
        "\n",
        "    tabuleiro_corrente = tabuleiro.copy()\n",
        "    # print(tabuleiro_corrente)\n",
        "    contador = 0\n",
        "\n",
        "    for i in range(len(vizinhos)):\n",
        "\n",
        "        vizinho = melhor_vizinho(tabuleiro_corrente)\n",
        "        # print(vizinho)\n",
        "\n",
        "        contador += 1\n",
        "\n",
        "        if calcula_f(vizinho) <= calcula_f(tabuleiro_corrente):\n",
        "            return \"Solução encontrada em \" + str(contador) + \" passos\"\n",
        "        else:\n",
        "            tabuleiro_corrente = vizinho\n",
        "\n",
        "    return \"Solução não encontrada\"\n",
        "\n",
        "\n",
        "hill_climbing(tabuleiro)"
      ],
      "execution_count": 409,
      "outputs": [
        {
          "output_type": "execute_result",
          "data": {
            "application/vnd.google.colaboratory.intrinsic+json": {
              "type": "string"
            },
            "text/plain": [
              "'Solução encontrada em 4 passos'"
            ]
          },
          "metadata": {
            "tags": []
          },
          "execution_count": 409
        }
      ]
    },
    {
      "cell_type": "markdown",
      "metadata": {
        "id": "AqnRt6kXDffi"
      },
      "source": [
        "### (b) Implemente uma versão do algoritmo Hill Climbing, onde todos os tabuleiros vizinhos do tabuleiro corrente são avaliados e escolha para ser o novo tabuleiro corrente aquele que mais melhora a avaliação do tabuleiro corrente atual. No caso de haver mais de um tabuleiro, a escolha deve ser feita de forma aleatória."
      ]
    },
    {
      "cell_type": "code",
      "metadata": {
        "id": "EE_h_q59Go5B",
        "colab": {
          "base_uri": "https://localhost:8080/"
        },
        "outputId": "1e75ed70-db5f-4499-af49-7ebc6f89d360"
      },
      "source": [
        "# retorna aleatoriamente um tabuleiro vizinho com o melhor valor de f.\n",
        "\n",
        "def melhor_vizinho_modificado(tabuleiro):\n",
        "\n",
        "    melhor = tabuleiro.copy()\n",
        "    f_melhor = calcula_f(melhor)\n",
        "    copia_vizinhos = gera_todos_vizinhos(melhor)\n",
        "    lista_melhores = []\n",
        "    lista_final = []\n",
        "    # print(f_melhor)\n",
        "\n",
        "    for vizinho in range(len(copia_vizinhos)):\n",
        "\n",
        "        f_vizinho = calcula_f(copia_vizinhos[vizinho])\n",
        "        # print(calcula_f(vizinhos[vizinho]))\n",
        "\n",
        "        if f_vizinho >= f_melhor and melhor != copia_vizinhos[vizinho]:\n",
        "            melhor = copia_vizinhos[vizinho]\n",
        "            # print(melhor)\n",
        "            f_melhor = calcula_f(melhor)\n",
        "            lista_melhores.append(melhor)\n",
        "    # faz um sort na lista que guarda todos os vizinhos e pega o item de maior \n",
        "    #valor \n",
        "    absoluto = sorted(lista_melhores)[-1]\n",
        "\n",
        "    # separa os itens com uma avaliação melhor que o tabuleiro recebido por parâmetro\n",
        "    # guarda, em uma nova lista, apenas os que tiverem o maior valor\n",
        "    for i in range(len(lista_melhores)):\n",
        "        if lista_melhores[i] == absoluto:\n",
        "            lista_final.append(lista_melhores[i])\n",
        "        # if calcula_f(lista_melhores[i]) == 0:\n",
        "        #     print(lista_melhores[i])\n",
        "    \n",
        "    # caso só haja um elemento, ele é retornado, senão, é feita uma escolha aleatória\n",
        "    # dentre os itens da lista\n",
        "    if len(lista_final) == 1:\n",
        "        return lista_final[0]\n",
        "    else:\n",
        "        melhor_vizinho_aleatorio = random.randint(0, len(lista_final) - 1)\n",
        "        return lista_final[melhor_vizinho_aleatorio]\n",
        "\n",
        "\n",
        "melhor_vizinho_modificado(tabuleiro)"
      ],
      "execution_count": 410,
      "outputs": [
        {
          "output_type": "execute_result",
          "data": {
            "text/plain": [
              "[3, 3, 1, 0]"
            ]
          },
          "metadata": {
            "tags": []
          },
          "execution_count": 410
        }
      ]
    },
    {
      "cell_type": "code",
      "metadata": {
        "id": "OIoBLh8bD-83",
        "colab": {
          "base_uri": "https://localhost:8080/",
          "height": 35
        },
        "outputId": "9207a0c9-ba28-42ba-ecf3-e12638a1f75f"
      },
      "source": [
        "# implementação do algoritmo do Hillclimbing, apresentado em sala de aula.\n",
        "# essa versão considera um vizinho com melhor valor de f escolhido aleatoriamente.\n",
        "\n",
        "def hill_climbing_modificado(tabuleiro):\n",
        "\n",
        "    tabuleiro_corrente = tabuleiro.copy()\n",
        "    contador = 0\n",
        "    # print(tabuleiro_corrente)\n",
        "\n",
        "    for i in range(len(vizinhos)):\n",
        "\n",
        "        vizinho = melhor_vizinho_modificado(tabuleiro_corrente)\n",
        "        # print(vizinho)\n",
        "        contador += 1\n",
        "        \n",
        "        if calcula_f(vizinho) == 0:\n",
        "            return \"Solução encontrada em \" + str(contador) + \" passos\"\n",
        "        else:\n",
        "            tabuleiro_corrente = vizinho\n",
        "        \n",
        "    return \"Solução não encontrada\"\n",
        "\n",
        "        \n",
        "\n",
        "hill_climbing_modificado(tabuleiro)"
      ],
      "execution_count": 411,
      "outputs": [
        {
          "output_type": "execute_result",
          "data": {
            "application/vnd.google.colaboratory.intrinsic+json": {
              "type": "string"
            },
            "text/plain": [
              "'Solução não encontrada'"
            ]
          },
          "metadata": {
            "tags": []
          },
          "execution_count": 411
        }
      ]
    },
    {
      "cell_type": "markdown",
      "metadata": {
        "id": "s-zdpdaNkH4c"
      },
      "source": [
        "### (c) Analise o desempenho de cada uma das implementações. Considere:\n",
        "\n",
        "\n",
        "*   Tabuleiros de tamanho 4, 8, 16 e 32\n",
        "*   Para cada tamanho do tabuleiro:\n",
        "    \n",
        "    - indique quantas vezes você precisou executar os programas para encontrar uma solução\n",
        "    - quantos tabuleiros correntes, em média, foram gerados em cada execução?\n",
        "\n"
      ]
    },
    {
      "cell_type": "code",
      "metadata": {
        "id": "0knCLmwtARCy",
        "colab": {
          "base_uri": "https://localhost:8080/"
        },
        "outputId": "06188532-705f-418f-f132-5933be413412"
      },
      "source": [
        "def desempenho():\n",
        "\n",
        "    tabuleiro_corrente = tabuleiro.copy()\n",
        "    # print(tabuleiro_corrente)\n",
        "\n",
        "    print(\"Hill climbing: \" + hill_climbing(tabuleiro))\n",
        "    print(\"Hill climbing modificado: \" + hill_climbing_modificado(tabuleiro))\n",
        "\n",
        "\n",
        "desempenho()"
      ],
      "execution_count": 412,
      "outputs": [
        {
          "output_type": "stream",
          "text": [
            "Hill climbing: Solução encontrada em 4 passos\n",
            "Hill climbing modificado: Solução não encontrada\n"
          ],
          "name": "stdout"
        }
      ]
    },
    {
      "cell_type": "markdown",
      "metadata": {
        "id": "GnlRAAq_lVNB"
      },
      "source": [
        "### (d) Conclusões"
      ]
    },
    {
      "cell_type": "markdown",
      "metadata": {
        "id": "9LRcyS7_lY1Z"
      },
      "source": [
        "No geral, tivemos uma quantidade muito menor de tabuleiros correntes ao executarmos a função Hill Climbing, que pega o primeiro vizinho com melhor avaliação do que o tabuleiro inicial. \n",
        "\n",
        "Essa mesma função, encontrou uma solução para 100% dos casos, independentemente da quantidade de rainhas, enquanto a função Hill Climbing modificado, que seleciona um vizinho aleatório entre os que mais melhoram a avaliação do tabuleiro inicial, teve uma porcentagem de soluções encontradas inversamente proporcional à quantidade de rainhas, ou seja, quantos mais rainhas, menor a proporção de vezes em o Hill Climbing modificado encontra uma solução.\n",
        "\n",
        "Quando não encontrado uma solução, colocamos que o total de tabuleiros correntes gerado por cada função é igual à *(N x N) - N + 1*\n",
        "\n",
        "\n",
        "* *(N x N)* é a quantidade total de casas no tabuleiro\n",
        "   \n",
        "* *(N x N) - N* é a quantidade total de vizinhos, ou seja, desconsiderando a posição das rainhas no tabuleiro\n",
        "\n",
        "* *(N x N) - N + 1*, pois consideramos a execução do tabuleiro inicial\n",
        "\n",
        "Consideramos esse valor como o máximo de passos possível, pois levamos em consideração iterar apenas sobre o vetor que guarda todas as configurações dos vizinhos do tabuleiro inicial.\n",
        "\n",
        "\n",
        "[Link para planilha com análises](https://docs.google.com/spreadsheets/d/1hqg1jO_DIHlt7SOcaZU7Ae14ruQIQS8zf7Q5BdSQqWI/edit?usp=sharing)"
      ]
    },
    {
      "cell_type": "markdown",
      "metadata": {
        "id": "L3UGa5djlY54"
      },
      "source": [
        "## Simulated Annealing"
      ]
    },
    {
      "cell_type": "markdown",
      "metadata": {
        "id": "PTSI53tDlfVB"
      },
      "source": [
        "### (a) Implemente o algoritmo."
      ]
    },
    {
      "cell_type": "code",
      "metadata": {
        "id": "wXBxiMTOlb2i"
      },
      "source": [
        "# implementação do algoritmo do Simulated Annealing, apresentado em sala de aula.\n",
        "# Usamos o link \n",
        "# http://modelai.gettysburg.edu/2016/pyconsole/ex3/\n",
        "# como referência no estudo dos valores dos parâmetros\n",
        "\n",
        "import numpy as np\n",
        "\n",
        "\n",
        "def simulated_annealing(temperatura_inicial, max_iteracoes, alpha):\n",
        "\n",
        "    tabuleiro_corrente = tabuleiro.copy()\n",
        "    melhor_estado = tabuleiro_corrente\n",
        "    temperatura_corrente = temperatura_inicial\n",
        "\n",
        "    vizinhos = gera_todos_vizinhos(tabuleiro_corrente)\n",
        "\n",
        "    for i in range(max_iteracoes):\n",
        "        \n",
        "        vizinho = gera_vizinho_aleatorio(tabuleiro_corrente, vizinhos)\n",
        "\n",
        "        delta = calcula_f(vizinho) - calcula_f(tabuleiro_corrente)\n",
        "\n",
        "        if delta <= 0:\n",
        "            tabuleiro_corrente = vizinho \n",
        "\n",
        "            if calcula_f(vizinho) <= calcula_f(melhor_estado):\n",
        "                melhor_estado = vizinho\n",
        "        else:\n",
        "            if np.e ** (- delta/ temperatura_corrente) > random.randint(0, 2):\n",
        "                tabuleiro_corrente = vizinho\n",
        "        \n",
        "        temperatura_corrente *= alpha\n",
        "\n",
        "    print(calcula_f(melhor_estado))\n",
        "    return melhor_estado"
      ],
      "execution_count": 413,
      "outputs": []
    },
    {
      "cell_type": "markdown",
      "metadata": {
        "id": "rGi9Wub3loMZ"
      },
      "source": [
        "### (b) Determine experimentalmente valores para os parâmetros de entrada que permitam que uma solução seja encontrada. Considere apenas tabuleiros de tamanho 4 e 8. Relate como a busca se comportou para os diferentes valores dos parâmetros de entrada."
      ]
    },
    {
      "cell_type": "code",
      "metadata": {
        "id": "hg8OCuKplwkM",
        "colab": {
          "base_uri": "https://localhost:8080/"
        },
        "outputId": "e2623f1d-b671-4aaf-d630-1e965a437575"
      },
      "source": [
        "simulated_annealing(100, 1, 0.1)"
      ],
      "execution_count": 414,
      "outputs": [
        {
          "output_type": "stream",
          "text": [
            "-6\n"
          ],
          "name": "stdout"
        },
        {
          "output_type": "execute_result",
          "data": {
            "text/plain": [
              "[3, 2, 1, 0]"
            ]
          },
          "metadata": {
            "tags": []
          },
          "execution_count": 414
        }
      ]
    },
    {
      "cell_type": "markdown",
      "metadata": {
        "id": "ooxl2sg3lz2Q"
      },
      "source": [
        "### (c) Caso você tenha sido bem sucedido no item anterior (encontrou a solução do problema de 4 e 8 rainhas), use os mesmos parâmetros de entrada usados e execute o programa agora considerando tabuleiros de tamanho 16 e 32. O que acontece?"
      ]
    },
    {
      "cell_type": "markdown",
      "metadata": {
        "id": "1JvhoWPzu4Un"
      },
      "source": [
        "Utilizando o SA, não obtivemos sucesso ao tentar encontrar um resultado para o problema das 4 e 8 rainhas."
      ]
    },
    {
      "cell_type": "markdown",
      "metadata": {
        "id": "0UToISIdmDa5"
      },
      "source": [
        "## Comparando os métodos Hill Climbing e Simulated Annealing na resolução do problema das N-rainhas, o que você pode concluir?"
      ]
    },
    {
      "cell_type": "markdown",
      "metadata": {
        "id": "6FjBU0YQssfY"
      },
      "source": [
        "Comparando o SA com o Hill Climbing, percebemos uma maior dificuldade em sair dos pontos de mínimo locais. Nos testes, encontramos valores para a função de avaliação que não melhoravam a avaliação dos testes anteriores. Acontecia da função ficar \"presa\" em um valor específico para várias configurações de parâmetros diferentes, ou da avaliação mudar para um valor pior.\n",
        "\n",
        "O Hill Climbing por sua vez, sempre encontrava um resultado na versão que pega o primeiro vizinho que apresenta um valor melhor para a função de avaliação, pois essa versão do algoritmo é similar a uma busca gulosa local, que sempre encontra solução. O Hill Climbing modificado, apesar de não conseguir retornar um resultado em todas as tentativas, ainda consegue encontrá-lo algumas vezes, enquanto no SA não chegamos perto de achar nenhuma solução para tabuleiros de tamanho 4 e 8.\n",
        "\n",
        "[Planilha com os resultados](https://docs.google.com/spreadsheets/d/1hqg1jO_DIHlt7SOcaZU7Ae14ruQIQS8zf7Q5BdSQqWI/edit#gid=1361193750)"
      ]
    }
  ]
}