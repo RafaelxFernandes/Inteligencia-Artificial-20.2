{
  "nbformat": 4,
  "nbformat_minor": 0,
  "metadata": {
    "colab": {
      "name": "N-Rainhas-com-SA.ipynb",
      "provenance": [],
      "collapsed_sections": [],
      "toc_visible": true
    },
    "kernelspec": {
      "name": "python3",
      "display_name": "Python 3"
    },
    "language_info": {
      "name": "python"
    }
  },
  "cells": [
    {
      "cell_type": "markdown",
      "metadata": {
        "id": "DVx1vj4zPZXl"
      },
      "source": [
        "# Tarefa - Hill Climbing e Simulated Annealing\n",
        "\n",
        "## Problema das N-Rainhas\n",
        "\n",
        "### Dupla:\n",
        "João Pedro de Paula Oliveira - DRE: 113054857\n",
        "\n",
        "Rafael da Silva Fernandes - DRE: 117196229"
      ]
    },
    {
      "cell_type": "markdown",
      "metadata": {
        "id": "26aXPEjZPtLh"
      },
      "source": [
        "## Modelagem\n",
        "### Descreva como um tabuleiro N x N com N rainhas é representado no seu programa."
      ]
    },
    {
      "cell_type": "markdown",
      "metadata": {
        "id": "hIbgUpiDS_LN"
      },
      "source": [
        "No programa, um tabuleiro com N rainhas será representado por meio de uma lista. \n",
        "\n",
        "Por exemplo, a lista [3,2,1,2] representa um tabuleiro 4 x 4, em que o índice 0 da lista significa que na primeira coluna, contando da esquerda para a direita, há uma rainha na quarta linha, contando de cima para baixo. \n",
        "\n",
        "Dessa forma, os valores possíveis da lista vão de 0 até (N - 1)."
      ]
    },
    {
      "cell_type": "markdown",
      "metadata": {
        "id": "PwhsIdwCP-TA"
      },
      "source": [
        "## Implementação"
      ]
    },
    {
      "cell_type": "markdown",
      "metadata": {
        "id": "eiWoD-_BQH9x"
      },
      "source": [
        "###(a) Defina uma função que dado o tamanho do tabuleiro N, retorna um tabuleiro N x N com N rainhas. O tabuleiro deve ser gerado de maneira aleatória."
      ]
    },
    {
      "cell_type": "code",
      "metadata": {
        "id": "n2bUiyPPuCnZ"
      },
      "source": [
        "N = 4\n",
        "# N = 8\n",
        "# N = 16\n",
        "# N = 32"
      ],
      "execution_count": null,
      "outputs": []
    },
    {
      "cell_type": "code",
      "metadata": {
        "id": "DIv23vGpQAjp",
        "colab": {
          "base_uri": "https://localhost:8080/"
        },
        "outputId": "941e490b-1d43-46d8-caa4-4e08b2cfe784"
      },
      "source": [
        "import random\n",
        "\n",
        "def monta_tabuleiro(N):\n",
        "\n",
        "    tabuleiro = []\n",
        "\n",
        "    # Gera uma lista de tamanho N, com valores de 0 a (N-1)\n",
        "    # indicando as posições das rainhas, contando de cima para baixo\n",
        "    for i in range(N):\n",
        "        tabuleiro.append(random.randint(0, (N - 1)))\n",
        "\n",
        "    return tabuleiro\n",
        "\n",
        "\n",
        "# Variável global para tabuleiro\n",
        "tabuleiro = monta_tabuleiro(N)\n",
        "print(\"Vamos trabalhar com o tabuleiro: \" + str(tabuleiro))"
      ],
      "execution_count": null,
      "outputs": [
        {
          "output_type": "stream",
          "text": [
            "Vamos trabalhar com o tabuleiro: [3, 3, 2, 3]\n"
          ],
          "name": "stdout"
        }
      ]
    },
    {
      "cell_type": "markdown",
      "metadata": {
        "id": "myyJ6r8oQc2K"
      },
      "source": [
        "### (b) Defina uma função que dado um tabuleiro qualquer, retorna todos os seus vizinhos."
      ]
    },
    {
      "cell_type": "code",
      "metadata": {
        "id": "S8G-spa0Qfsr",
        "colab": {
          "base_uri": "https://localhost:8080/"
        },
        "outputId": "412f6f38-b151-42d9-c590-2413aafd8ace"
      },
      "source": [
        "def gera_todos_vizinhos(tabuleiro):\n",
        "\n",
        "    vizinhos = []\n",
        "   \n",
        "    # Percorre as posições da lista tabuleiro\n",
        "    for coluna in range(len(tabuleiro)):\n",
        "        \n",
        "        # Verifica se os valores da posição \"linha\" são diferentes de\n",
        "        # todas as possibilidades de 0 até (N-1)\n",
        "        for linha in range(len(tabuleiro)):\n",
        "\n",
        "            copia_tabuleiro = tabuleiro.copy()\n",
        "\n",
        "            if linha != copia_tabuleiro[coluna]:\n",
        "                copia_tabuleiro[coluna] = linha\n",
        "                \n",
        "                # Quando o tabuleiro da iteração for diferente do tabuleiro inicial\n",
        "                # o consideramos um vizinhos, e o acrescentamos à lista vizinhos\n",
        "                if copia_tabuleiro != tabuleiro:\n",
        "                    # print(copia_tabuleiro)\n",
        "                    vizinhos.append(copia_tabuleiro)\n",
        "    \n",
        "    return vizinhos\n",
        "\n",
        "\n",
        "vizinhos = gera_todos_vizinhos(tabuleiro)\n",
        "print(\"Vizinhos do tabuleiro \" + str(tabuleiro) + \":\\n\")\n",
        "vizinhos"
      ],
      "execution_count": null,
      "outputs": [
        {
          "output_type": "stream",
          "text": [
            "Vizinhos do tabuleiro [3, 3, 2, 3]:\n",
            "\n"
          ],
          "name": "stdout"
        },
        {
          "output_type": "execute_result",
          "data": {
            "text/plain": [
              "[[0, 3, 2, 3],\n",
              " [1, 3, 2, 3],\n",
              " [2, 3, 2, 3],\n",
              " [3, 0, 2, 3],\n",
              " [3, 1, 2, 3],\n",
              " [3, 2, 2, 3],\n",
              " [3, 3, 0, 3],\n",
              " [3, 3, 1, 3],\n",
              " [3, 3, 3, 3],\n",
              " [3, 3, 2, 0],\n",
              " [3, 3, 2, 1],\n",
              " [3, 3, 2, 2]]"
            ]
          },
          "metadata": {
            "tags": []
          },
          "execution_count": 1347
        }
      ]
    },
    {
      "cell_type": "markdown",
      "metadata": {
        "id": "lsH-hEefQhVk"
      },
      "source": [
        "### (c) Defina uma função que dado um tabuleiro qualquer, retorna um de seus vizinhos. A escolha do vizinho a ser retornado pela função deve ser aleatória."
      ]
    },
    {
      "cell_type": "code",
      "metadata": {
        "id": "oOkf0HJHQotb",
        "colab": {
          "base_uri": "https://localhost:8080/"
        },
        "outputId": "cb4b0f61-261b-4ec4-df6b-68e9898ea64f"
      },
      "source": [
        "def gera_vizinho_aleatorio(tabuleiro, vizinhos):\n",
        "\n",
        "    indice_vizinho_aleatorio = random.randint(0, len(vizinhos) - 1)\n",
        "    # print(indice_vizinho_aleatorio)\n",
        "\n",
        "    vizinho_aleatorio = vizinhos[indice_vizinho_aleatorio]\n",
        "\n",
        "    return vizinho_aleatorio\n",
        "\n",
        "\n",
        "gera_vizinho_aleatorio(tabuleiro, vizinhos)"
      ],
      "execution_count": null,
      "outputs": [
        {
          "output_type": "execute_result",
          "data": {
            "text/plain": [
              "[3, 2, 2, 3]"
            ]
          },
          "metadata": {
            "tags": []
          },
          "execution_count": 1348
        }
      ]
    },
    {
      "cell_type": "markdown",
      "metadata": {
        "id": "oKKICWA4QuKZ"
      },
      "source": [
        "### (d) Defina uma função que dado um tabuleiro qualquer, retorna a avaliação deste tabuleiro (número de ataques entre rainhas)."
      ]
    },
    {
      "cell_type": "markdown",
      "metadata": {
        "id": "2JvuUaiVkszO"
      },
      "source": [
        "A heurísitca utilizada é a mesma apresentada nos slides e no material de leitura. Ela se trata do somatório da quantidade de ataques possíveis entre todas as rainhas."
      ]
    },
    {
      "cell_type": "code",
      "metadata": {
        "id": "O6zH7FVvQ0Yn"
      },
      "source": [
        "# Caso tenham rainhas na mesma linha, aumenta o valor da variável \"ataque\"\n",
        "def checa_linha(tabuleiro):\n",
        "\n",
        "    ataques = 0\n",
        "\n",
        "    for coluna in range(len(tabuleiro)):\n",
        "\n",
        "        linha_rainha = tabuleiro[coluna]\n",
        "\n",
        "        for coluna_vizinha in range(1, len(tabuleiro) - coluna):\n",
        "\n",
        "            posicao_coluna_atual = coluna + coluna_vizinha\n",
        "\n",
        "            if tabuleiro[posicao_coluna_atual] == linha_rainha:\n",
        "                ataques += 1\n",
        "    \n",
        "    return ataques"
      ],
      "execution_count": null,
      "outputs": []
    },
    {
      "cell_type": "code",
      "metadata": {
        "id": "3gfjyVRSlGke"
      },
      "source": [
        "# Caso tenham rainhas na mesma\n",
        "def checa_diagonal_superior(tabuleiro):\n",
        "\n",
        "    ataques = 0\n",
        "\n",
        "    for coluna in range(len(tabuleiro)):\n",
        "\n",
        "        linha_rainha = tabuleiro[coluna]\n",
        "\n",
        "        for coluna_vizinha in range(1, len(tabuleiro) - coluna):\n",
        "\n",
        "            posicao_coluna_atual = coluna + coluna_vizinha\n",
        "\n",
        "            if tabuleiro[posicao_coluna_atual] == (linha_rainha - coluna_vizinha):\n",
        "                ataques += 1\n",
        "    \n",
        "    return ataques"
      ],
      "execution_count": null,
      "outputs": []
    },
    {
      "cell_type": "code",
      "metadata": {
        "id": "P52wr6f0ocr7"
      },
      "source": [
        "def checa_diagonal_inferior(tabuleiro):\n",
        "\n",
        "    ataques = 0\n",
        "\n",
        "    for coluna in range(len(tabuleiro)):\n",
        "\n",
        "        linha_rainha = tabuleiro[coluna]\n",
        "\n",
        "        for coluna_vizinha in range(1, len(tabuleiro) - coluna):\n",
        "\n",
        "            posicao_coluna_atual = coluna + coluna_vizinha\n",
        "\n",
        "            if tabuleiro[posicao_coluna_atual] == (linha_rainha + coluna_vizinha):\n",
        "                ataques += 1\n",
        "    \n",
        "    return ataques"
      ],
      "execution_count": null,
      "outputs": []
    },
    {
      "cell_type": "code",
      "metadata": {
        "id": "e3OpTpxclH61"
      },
      "source": [
        "# Heurística\n",
        "def conta_ataques(tabuleiro):\n",
        "\n",
        "    total_ataques = 0\n",
        "    ataques_diagonal_total = 0\n",
        "\n",
        "    ataques_diagonal_superior = checa_diagonal_superior(tabuleiro)\n",
        "    ataques_diagonal_inferior = checa_diagonal_inferior(tabuleiro)\n",
        "\n",
        "    ataques_diagonal_total += ataques_diagonal_superior + ataques_diagonal_inferior\n",
        "    \n",
        "    total_ataques += checa_linha(tabuleiro) + ataques_diagonal_total\n",
        "\n",
        "    return total_ataques"
      ],
      "execution_count": null,
      "outputs": []
    },
    {
      "cell_type": "code",
      "metadata": {
        "colab": {
          "base_uri": "https://localhost:8080/"
        },
        "id": "Sqo8-5EAwNdM",
        "outputId": "1114da8a-f283-4b00-e3c1-66acf604c263"
      },
      "source": [
        "# print(checa_linha(tabuleiro))\n",
        "# print(checa_diagonal_superior(tabuleiro))\n",
        "# print(checa_diagonal_inferior(tabuleiro))\n",
        "print(\"O total de ataques para o tabuleiro \" + str(tabuleiro) \n",
        "      + \" é igual à \" + str(conta_ataques(tabuleiro)))"
      ],
      "execution_count": null,
      "outputs": [
        {
          "output_type": "stream",
          "text": [
            "O total de ataques para o tabuleiro [3, 3, 2, 3] é igual à 5\n"
          ],
          "name": "stdout"
        }
      ]
    },
    {
      "cell_type": "markdown",
      "metadata": {
        "id": "pFhvJCArSJ0x"
      },
      "source": [
        "## Hill Climbing"
      ]
    },
    {
      "cell_type": "markdown",
      "metadata": {
        "id": "MkzDI4odDHQ7"
      },
      "source": [
        "### (a) Implemente uma versão do algoritmo Hill Climbing, onde o tabuleiro sucessor do tabuleiro corrente será o primeiro vizinho dele (tabuleiro corrente) que tem uma avaliação melhor."
      ]
    },
    {
      "cell_type": "code",
      "metadata": {
        "id": "l2DSVzPPF8dV"
      },
      "source": [
        "def calcula_f(tabuleiro):\n",
        "    return conta_ataques(tabuleiro) * (-1)"
      ],
      "execution_count": null,
      "outputs": []
    },
    {
      "cell_type": "code",
      "metadata": {
        "id": "ved45mLDWcjh",
        "colab": {
          "base_uri": "https://localhost:8080/"
        },
        "outputId": "3327ac7d-df34-4b99-8f81-1f01eef5ca5f"
      },
      "source": [
        "def melhor_vizinho(tabuleiro):\n",
        "\n",
        "    melhor = tabuleiro.copy()\n",
        "    f_melhor = calcula_f(melhor)\n",
        "    copia_vizinhos = gera_todos_vizinhos(melhor)\n",
        "    # print(copia_vizinhos)\n",
        "    # print(f_melhor)\n",
        "\n",
        "    for vizinho in range(len(copia_vizinhos)):\n",
        "\n",
        "        f_vizinho = calcula_f(copia_vizinhos[vizinho])\n",
        "        # print(calcula_f(vizinhos[vizinho]))\n",
        "\n",
        "        if f_vizinho > f_melhor:\n",
        "            melhor = copia_vizinhos[vizinho]\n",
        "            f_melhor = calcula_f(melhor)\n",
        "            return melhor\n",
        "\n",
        "    return melhor\n",
        "\n",
        "melhor_vizinho(tabuleiro)"
      ],
      "execution_count": null,
      "outputs": [
        {
          "output_type": "execute_result",
          "data": {
            "text/plain": [
              "[1, 3, 2, 3]"
            ]
          },
          "metadata": {
            "tags": []
          },
          "execution_count": 1355
        }
      ]
    },
    {
      "cell_type": "code",
      "metadata": {
        "id": "d9Hw-MJ5LbRh",
        "colab": {
          "base_uri": "https://localhost:8080/",
          "height": 35
        },
        "outputId": "4a05ca89-9501-46bd-95ef-45336c335b53"
      },
      "source": [
        "def hill_climbing(tabuleiro):\n",
        "\n",
        "    tabuleiro_corrente = tabuleiro.copy()\n",
        "    # print(tabuleiro_corrente)\n",
        "    contador = 0\n",
        "\n",
        "    for i in range(len(vizinhos)):\n",
        "\n",
        "        vizinho = melhor_vizinho(tabuleiro_corrente)\n",
        "        # print(vizinho)\n",
        "\n",
        "        contador += 1\n",
        "\n",
        "        if calcula_f(vizinho) <= calcula_f(tabuleiro_corrente):\n",
        "            return \"Solução encontrada em \" + str(contador) + \" passos\"\n",
        "        else:\n",
        "            tabuleiro_corrente = vizinho\n",
        "\n",
        "    return \"Solução não encontrada\"\n",
        "\n",
        "\n",
        "hill_climbing(tabuleiro)"
      ],
      "execution_count": null,
      "outputs": [
        {
          "output_type": "execute_result",
          "data": {
            "application/vnd.google.colaboratory.intrinsic+json": {
              "type": "string"
            },
            "text/plain": [
              "'Solução encontrada em 3 passos'"
            ]
          },
          "metadata": {
            "tags": []
          },
          "execution_count": 1356
        }
      ]
    },
    {
      "cell_type": "markdown",
      "metadata": {
        "id": "AqnRt6kXDffi"
      },
      "source": [
        "### (b) Implemente uma versão do algoritmo Hill Climbing, onde todos os tabuleiros vizinhos do tabuleiro corrente são avaliados e escolha para ser o novo tabuleiro corrente aquele que mais melhora a avaliação do tabuleiro corrente atual. No caso de haver mais de um tabuleiro, a escolha deve ser feita de forma aleatória."
      ]
    },
    {
      "cell_type": "code",
      "metadata": {
        "id": "EE_h_q59Go5B",
        "colab": {
          "base_uri": "https://localhost:8080/"
        },
        "outputId": "70422f98-a716-4c66-9fcf-237996933483"
      },
      "source": [
        "def melhor_vizinho_modificado(tabuleiro):\n",
        "\n",
        "    melhor = tabuleiro.copy()\n",
        "    f_melhor = calcula_f(melhor)\n",
        "    copia_vizinhos = gera_todos_vizinhos(melhor)\n",
        "    lista_melhores = []\n",
        "    lista_final = []\n",
        "    # print(f_melhor)\n",
        "\n",
        "    for vizinho in range(len(copia_vizinhos)):\n",
        "\n",
        "        f_vizinho = calcula_f(copia_vizinhos[vizinho])\n",
        "        # print(calcula_f(vizinhos[vizinho]))\n",
        "\n",
        "        if f_vizinho >= f_melhor and melhor != copia_vizinhos[vizinho]:\n",
        "            melhor = copia_vizinhos[vizinho]\n",
        "            # print(melhor)\n",
        "            f_melhor = calcula_f(melhor)\n",
        "            lista_melhores.append(melhor)\n",
        "\n",
        "    absoluto = sorted(lista_melhores)[-1]\n",
        "\n",
        "    for i in range(len(lista_melhores)):\n",
        "        if lista_melhores[i] == absoluto:\n",
        "            lista_final.append(lista_melhores[i])\n",
        "        # if calcula_f(lista_melhores[i]) == 0:\n",
        "        #     print(lista_melhores[i])\n",
        "\n",
        "    if len(lista_final) == 1:\n",
        "        return lista_final[0]\n",
        "    else:\n",
        "        melhor_vizinho_aleatorio = random.randint(0, len(lista_final) - 1)\n",
        "        return lista_final[melhor_vizinho_aleatorio]\n",
        "\n",
        "\n",
        "melhor_vizinho_modificado(tabuleiro)"
      ],
      "execution_count": null,
      "outputs": [
        {
          "output_type": "execute_result",
          "data": {
            "text/plain": [
              "[3, 0, 2, 3]"
            ]
          },
          "metadata": {
            "tags": []
          },
          "execution_count": 1357
        }
      ]
    },
    {
      "cell_type": "code",
      "metadata": {
        "id": "OIoBLh8bD-83",
        "colab": {
          "base_uri": "https://localhost:8080/",
          "height": 35
        },
        "outputId": "639d9293-bc9e-49f2-f3fd-e32a3e9f2c3f"
      },
      "source": [
        "def hill_climbing_modificado(tabuleiro):\n",
        "\n",
        "    tabuleiro_corrente = tabuleiro.copy()\n",
        "    contador = 0\n",
        "    # print(tabuleiro_corrente)\n",
        "\n",
        "    for i in range(len(vizinhos)):\n",
        "\n",
        "        vizinho = melhor_vizinho_modificado(tabuleiro_corrente)\n",
        "        # print(vizinho)\n",
        "        contador += 1\n",
        "        \n",
        "        if calcula_f(vizinho) == 0:\n",
        "            return \"Solução encontrada em \" + str(contador) + \" passos\"\n",
        "        else:\n",
        "            tabuleiro_corrente = vizinho\n",
        "        \n",
        "    return \"Solução não encontrada\"\n",
        "\n",
        "        \n",
        "\n",
        "hill_climbing_modificado(tabuleiro)"
      ],
      "execution_count": null,
      "outputs": [
        {
          "output_type": "execute_result",
          "data": {
            "application/vnd.google.colaboratory.intrinsic+json": {
              "type": "string"
            },
            "text/plain": [
              "'Solução encontrada em 4 passos'"
            ]
          },
          "metadata": {
            "tags": []
          },
          "execution_count": 1358
        }
      ]
    },
    {
      "cell_type": "markdown",
      "metadata": {
        "id": "s-zdpdaNkH4c"
      },
      "source": [
        "### (c) Analise o desempenho de cada uma das implementações. Considere:\n",
        "\n",
        "\n",
        "*   Tabuleiros de tamanho 4, 8, 16 e 32\n",
        "*   Para cada tamanho do tabuleiro:\n",
        "    \n",
        "    - indique quantas vezes você precisou executar os programas para encontrar uma solução\n",
        "    - quantos tabuleiros correntes, em média, foram gerados em cada execução?\n",
        "\n"
      ]
    },
    {
      "cell_type": "code",
      "metadata": {
        "colab": {
          "base_uri": "https://localhost:8080/"
        },
        "id": "0knCLmwtARCy",
        "outputId": "ca79e48d-a40d-472d-bd59-8aaddaf93325"
      },
      "source": [
        "def desempenho():\n",
        "\n",
        "    tabuleiro_corrente = tabuleiro.copy()\n",
        "    # print(tabuleiro_corrente)\n",
        "\n",
        "    print(\"Hill climbing: \" + hill_climbing(tabuleiro))\n",
        "    print(\"Hill climbing modificado: \" + hill_climbing_modificado(tabuleiro))\n",
        "\n",
        "\n",
        "desempenho()"
      ],
      "execution_count": null,
      "outputs": [
        {
          "output_type": "stream",
          "text": [
            "Hill climbing: Solução encontrada em 3 passos\n",
            "Hill climbing modificado: Solução encontrada em 4 passos\n"
          ],
          "name": "stdout"
        }
      ]
    },
    {
      "cell_type": "markdown",
      "metadata": {
        "id": "GnlRAAq_lVNB"
      },
      "source": [
        "### (d) Conclusões"
      ]
    },
    {
      "cell_type": "markdown",
      "metadata": {
        "id": "9LRcyS7_lY1Z"
      },
      "source": [
        "No geral, tivemos uma quantidade muito menor de tabuleiros correntes ao executarmos a função Hill Climbing, que pega o primeiro vizinho com melhor avaliação do que o tabuleiro inicial. \n",
        "\n",
        "Essa mesma função, encontrou uma solução para 100% dos casos, independentemente da quantidade de rainhas, enquanto a função Hill Climbing modificado, que seleciona um vizinho aleatório entre os que mais melhoram a avaliação do tabuleiro inicial, teve uma porcentagem de soluções encontradas inversamente proporcional à quantidade de rainhas, ou seja, quantos mais rainhas, menor a proporção de vezes em o Hill Climbing modificado encontra uma solução.\n",
        "\n",
        "Quando não encontrado uma solução, colocamos que o total de tabuleiros correntes gerado por cada função é igual à *(N x N) - N + 1*\n",
        "\n",
        "\n",
        "* *(N x N)* é a quantidade total de casas no tabuleiro\n",
        "   \n",
        "* *(N x N) - N* é a quantidade total de vizinhos, ou seja, desconsiderando a posição das rainhas no tabuleiro\n",
        "\n",
        "* *(N x N) - N + 1*, pois consideramos a execução do tabuleiro inicial\n",
        "\n",
        "Consideramos esse valor como o máximo de passos possível, pois levamos em consideração iterar apenas sobre o vetor que guarda todas as configurações dos vizinhos do tabuleiro inicial.\n",
        "\n",
        "\n",
        "[Link para planilha com análises](https://docs.google.com/spreadsheets/d/1hqg1jO_DIHlt7SOcaZU7Ae14ruQIQS8zf7Q5BdSQqWI/edit?usp=sharing)"
      ]
    },
    {
      "cell_type": "markdown",
      "metadata": {
        "id": "L3UGa5djlY54"
      },
      "source": [
        "## Simulated Annealing"
      ]
    },
    {
      "cell_type": "markdown",
      "metadata": {
        "id": "PTSI53tDlfVB"
      },
      "source": [
        "### (a) Implemente o algoritmo."
      ]
    },
    {
      "cell_type": "code",
      "metadata": {
        "id": "wXBxiMTOlb2i"
      },
      "source": [
        "import numpy as np\n",
        "\n",
        "\n",
        "def simulated_annealing(temperatura_inicial, max_iteracoes, alpha):\n",
        "\n",
        "    tabuleiro_corrente = tabuleiro.copy()\n",
        "    melhor_estado = tabuleiro_corrente\n",
        "    temperatura_corrente = temperatura_inicial\n",
        "\n",
        "    vizinhos = gera_todos_vizinhos(tabuleiro_corrente)\n",
        "\n",
        "    for i in range(max_iteracoes):\n",
        "        \n",
        "        vizinho = gera_vizinho_aleatorio(tabuleiro_corrente, vizinhos)\n",
        "\n",
        "        delta = calcula_f(vizinho) - calcula_f(tabuleiro_corrente)\n",
        "\n",
        "        if delta <= 0:\n",
        "            tabuleiro_corrente = vizinho \n",
        "\n",
        "            if calcula_f(vizinho) <= calcula_f(melhor_estado):\n",
        "                melhor_estado = vizinho\n",
        "        else:\n",
        "            if np.e ** (- delta/ temperatura_corrente) > random.randint(0, 2):\n",
        "                tabuleiro_corrente = vizinho\n",
        "        \n",
        "        temperatura_corrente *= alpha\n",
        "\n",
        "    print(calcula_f(melhor_estado))\n",
        "    return melhor_estado"
      ],
      "execution_count": null,
      "outputs": []
    },
    {
      "cell_type": "markdown",
      "metadata": {
        "id": "rGi9Wub3loMZ"
      },
      "source": [
        "### (b) Determine experimentalmente valores para os parâmetros de entrada que permitam que uma solução seja encontrada. Considere apenas tabuleiros de tamanho 4 e 8. Relate como a busca se comportou para os diferentes valores dos parâmetros de entrada."
      ]
    },
    {
      "cell_type": "code",
      "metadata": {
        "id": "hg8OCuKplwkM",
        "colab": {
          "base_uri": "https://localhost:8080/"
        },
        "outputId": "239148a2-92ef-45ee-ad19-a9c3a8199597"
      },
      "source": [
        "simulated_annealing(100, 1, 0.1)"
      ],
      "execution_count": null,
      "outputs": [
        {
          "output_type": "stream",
          "text": [
            "-5\n"
          ],
          "name": "stdout"
        },
        {
          "output_type": "execute_result",
          "data": {
            "text/plain": [
              "[2, 3, 2, 3]"
            ]
          },
          "metadata": {
            "tags": []
          },
          "execution_count": 1361
        }
      ]
    },
    {
      "cell_type": "markdown",
      "metadata": {
        "id": "ooxl2sg3lz2Q"
      },
      "source": [
        "### (c) Caso você tenha sido bem sucedido no item anterior (encontrou a solução do problema de 4 e 8 rainhas), use os mesmos parâmetros de entrada usados e execute o programa agora considerando tabuleiros de tamanho 16 e 32. O que acontece?"
      ]
    },
    {
      "cell_type": "markdown",
      "metadata": {
        "id": "1JvhoWPzu4Un"
      },
      "source": [
        "Utilizando o SA, não obtivemos sucesso ao tentar encontrar um resultado para o problema das 4 e 8 rainhas."
      ]
    },
    {
      "cell_type": "markdown",
      "metadata": {
        "id": "0UToISIdmDa5"
      },
      "source": [
        "## Comparando os métodos Hill Climbing e Simulated Annealing na resolução do problema das N-rainhas, o que você pode concluir?"
      ]
    },
    {
      "cell_type": "markdown",
      "metadata": {
        "id": "6FjBU0YQssfY"
      },
      "source": [
        "Comparando o SA com o Hill Climbing, percebemos uma maior dificuldade em sair dos pontos de mínimo locais. Nos testes, encontramos valores para a função de avaliação que não melhoravam a avaliação dos testes anteriores. Acontecia da função ficar \"presa\" em um valor específico para várias configurações de parâmetros diferentes, ou da avaliação mudar para um valor pior.\n",
        "\n",
        "O Hill Climbing por sua vez, sempre encontrava um resultado na versão que pega o primeiro vizinho que apresenta um valor melhor para a função de avaliação, pois essa versão do algoritmo é similar a uma busca gulosa local, que sempre encontra solução. O Hill Climbing modificado, apesar de não conseguir retornar um resultado em todas as tentativas, ainda consegue encontrá-lo algumas vezes, enquanto no SA não chegamos perto de achar nenhuma solução para tabuleiros de tamanho 4 e 8.\n",
        "\n",
        "[Planilha com os resultados](https://docs.google.com/spreadsheets/d/1hqg1jO_DIHlt7SOcaZU7Ae14ruQIQS8zf7Q5BdSQqWI/edit#gid=1361193750)"
      ]
    }
  ]
}