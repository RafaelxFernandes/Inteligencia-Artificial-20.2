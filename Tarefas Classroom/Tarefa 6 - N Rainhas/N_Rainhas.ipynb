{
  "nbformat": 4,
  "nbformat_minor": 0,
  "metadata": {
    "colab": {
      "name": "N-Rainhas.ipynb",
      "provenance": [],
      "collapsed_sections": [],
      "toc_visible": true
    },
    "kernelspec": {
      "name": "python3",
      "display_name": "Python 3"
    },
    "language_info": {
      "name": "python"
    }
  },
  "cells": [
    {
      "cell_type": "markdown",
      "metadata": {
        "id": "DVx1vj4zPZXl"
      },
      "source": [
        "# Tarefa - Hill Climbing e Simulated Annealing\n",
        "\n",
        "## Problema das N-Rainhas\n",
        "\n",
        "### Dupla:\n",
        "João Pedro de Paula Oliveira - DRE: 113054857\n",
        "\n",
        "Rafael da Silva Fernandes - DRE: 117196229"
      ]
    },
    {
      "cell_type": "markdown",
      "metadata": {
        "id": "26aXPEjZPtLh"
      },
      "source": [
        "## Modelagem\n",
        "### Descreva como um tabuleiro N x N com N rainhas é representado no seu programa."
      ]
    },
    {
      "cell_type": "markdown",
      "metadata": {
        "id": "hIbgUpiDS_LN"
      },
      "source": [
        "No programa, um tabuleiro com N rainhas será representado por meio de uma lista. \n",
        "\n",
        "Por exemplo, a lista [3,2,1,2] representa um tabuleiro 4 x 4, em que o índice 0 da lista significa que na primeira coluna, contando da esquerda para a direita, há uma rainha na quarta linha, contando de cima para baixo. \n",
        "\n",
        "Dessa forma, os valores possíveis da lista vão de 0 até (N - 1)."
      ]
    },
    {
      "cell_type": "markdown",
      "metadata": {
        "id": "PwhsIdwCP-TA"
      },
      "source": [
        "## Implementação"
      ]
    },
    {
      "cell_type": "markdown",
      "metadata": {
        "id": "eiWoD-_BQH9x"
      },
      "source": [
        "###(a) Defina uma função que dado o tamanho do tabuleiro N, retorna um tabuleiro N x N com N rainhas. O tabuleiro deve ser gerado de maneira aleatória."
      ]
    },
    {
      "cell_type": "code",
      "metadata": {
        "id": "n2bUiyPPuCnZ"
      },
      "source": [
        "N = 4"
      ],
      "execution_count": 291,
      "outputs": []
    },
    {
      "cell_type": "code",
      "metadata": {
        "id": "DIv23vGpQAjp"
      },
      "source": [
        "import random\n",
        "\n",
        "def monta_tabuleiro(N):\n",
        "\n",
        "    tabuleiro = []\n",
        "\n",
        "    for i in range(N):\n",
        "        tabuleiro.append(random.randint(0, (N - 1)))\n",
        "\n",
        "    return tabuleiro\n",
        "\n",
        "tabuleiro = monta_tabuleiro(N)\n",
        "tabuleiro = [0,2,2,0]"
      ],
      "execution_count": 292,
      "outputs": []
    },
    {
      "cell_type": "markdown",
      "metadata": {
        "id": "myyJ6r8oQc2K"
      },
      "source": [
        "### (b) Defina uma função que dado um tabuleiro qualquer, retorna todos os seus vizinhos."
      ]
    },
    {
      "cell_type": "code",
      "metadata": {
        "colab": {
          "base_uri": "https://localhost:8080/"
        },
        "id": "S8G-spa0Qfsr",
        "outputId": "a546e4c2-d5d2-4f46-e682-bde2044d0825"
      },
      "source": [
        "def gera_todos_vizinhos(tabuleiro):\n",
        "\n",
        "    vizinhos = []\n",
        "   \n",
        "    for coluna in range(len(tabuleiro)):\n",
        "        for linha in range(len(tabuleiro)):\n",
        "\n",
        "            copia_tabuleiro = tabuleiro.copy()\n",
        "\n",
        "            if linha != copia_tabuleiro[coluna]:\n",
        "                copia_tabuleiro[coluna] = linha\n",
        "                \n",
        "                if copia_tabuleiro != tabuleiro:\n",
        "                    # print(copia_tabuleiro)\n",
        "                    vizinhos.append(copia_tabuleiro)\n",
        "    \n",
        "    return vizinhos\n",
        "\n",
        "\n",
        "vizinhos = gera_todos_vizinhos(tabuleiro)\n",
        "vizinhos"
      ],
      "execution_count": 293,
      "outputs": [
        {
          "output_type": "execute_result",
          "data": {
            "text/plain": [
              "[[1, 2, 2, 0],\n",
              " [2, 2, 2, 0],\n",
              " [3, 2, 2, 0],\n",
              " [0, 0, 2, 0],\n",
              " [0, 1, 2, 0],\n",
              " [0, 3, 2, 0],\n",
              " [0, 2, 0, 0],\n",
              " [0, 2, 1, 0],\n",
              " [0, 2, 3, 0],\n",
              " [0, 2, 2, 1],\n",
              " [0, 2, 2, 2],\n",
              " [0, 2, 2, 3]]"
            ]
          },
          "metadata": {
            "tags": []
          },
          "execution_count": 293
        }
      ]
    },
    {
      "cell_type": "markdown",
      "metadata": {
        "id": "lsH-hEefQhVk"
      },
      "source": [
        "### (c) Defina uma função que dado um tabuleiro qualquer, retorna um de seus vizinhos. A escolha do vizinho a ser retornado pela função deve ser aleatória."
      ]
    },
    {
      "cell_type": "code",
      "metadata": {
        "colab": {
          "base_uri": "https://localhost:8080/"
        },
        "id": "oOkf0HJHQotb",
        "outputId": "a360f6c1-a836-46ef-af73-580820db6009"
      },
      "source": [
        "def gera_vizinho_aleatorio(tabuleiro, vizinhos):\n",
        "\n",
        "    indice_vizinho_aleatorio = random.randint(0, len(vizinhos) - 1)\n",
        "    # print(indice_vizinho_aleatorio)\n",
        "\n",
        "    vizinho_aleatorio = vizinhos[indice_vizinho_aleatorio]\n",
        "\n",
        "    return vizinho_aleatorio\n",
        "\n",
        "\n",
        "gera_vizinho_aleatorio(tabuleiro, vizinhos)"
      ],
      "execution_count": 294,
      "outputs": [
        {
          "output_type": "execute_result",
          "data": {
            "text/plain": [
              "[0, 1, 2, 0]"
            ]
          },
          "metadata": {
            "tags": []
          },
          "execution_count": 294
        }
      ]
    },
    {
      "cell_type": "markdown",
      "metadata": {
        "id": "oKKICWA4QuKZ"
      },
      "source": [
        "### (d) Defina uma função que dado um tabuleiro qualquer, retorna a avaliação deste tabuleiro (número de ataques entre rainhas)."
      ]
    },
    {
      "cell_type": "markdown",
      "metadata": {
        "id": "2JvuUaiVkszO"
      },
      "source": [
        "A heurísitca utilizada é a mesma apresentada nos slides e no material de leitura. Ela se trata do somatório da quantidade de ataques possíveis entre todas as rainhas."
      ]
    },
    {
      "cell_type": "code",
      "metadata": {
        "id": "O6zH7FVvQ0Yn"
      },
      "source": [
        "def checa_linha(tabuleiro):\n",
        "\n",
        "    ataques = 0\n",
        "\n",
        "    for coluna in range(len(tabuleiro)):\n",
        "\n",
        "        linha_rainha = tabuleiro[coluna]\n",
        "\n",
        "        for coluna_vizinha in range(1, len(tabuleiro) - coluna):\n",
        "\n",
        "            posicao_coluna_atual = coluna + coluna_vizinha\n",
        "\n",
        "            if tabuleiro[posicao_coluna_atual] == linha_rainha:\n",
        "                ataques += 1\n",
        "    \n",
        "    return ataques"
      ],
      "execution_count": 295,
      "outputs": []
    },
    {
      "cell_type": "code",
      "metadata": {
        "id": "3gfjyVRSlGke"
      },
      "source": [
        "def checa_diagonal_superior(tabuleiro):\n",
        "\n",
        "    ataques = 0\n",
        "\n",
        "    for coluna in range(len(tabuleiro)):\n",
        "\n",
        "        linha_rainha = tabuleiro[coluna]\n",
        "\n",
        "        for coluna_vizinha in range(1, len(tabuleiro) - coluna):\n",
        "\n",
        "            posicao_coluna_atual = coluna + coluna_vizinha\n",
        "\n",
        "            if tabuleiro[posicao_coluna_atual] == (linha_rainha - coluna_vizinha):\n",
        "                ataques += 1\n",
        "    \n",
        "    return ataques"
      ],
      "execution_count": 296,
      "outputs": []
    },
    {
      "cell_type": "code",
      "metadata": {
        "id": "P52wr6f0ocr7"
      },
      "source": [
        "def checa_diagonal_inferior(tabuleiro):\n",
        "\n",
        "    ataques = 0\n",
        "\n",
        "    for coluna in range(len(tabuleiro)):\n",
        "\n",
        "        linha_rainha = tabuleiro[coluna]\n",
        "\n",
        "        for coluna_vizinha in range(1, len(tabuleiro) - coluna):\n",
        "\n",
        "            posicao_coluna_atual = coluna + coluna_vizinha\n",
        "\n",
        "            if tabuleiro[posicao_coluna_atual] == (linha_rainha + coluna_vizinha):\n",
        "                ataques += 1\n",
        "    \n",
        "    return ataques"
      ],
      "execution_count": 297,
      "outputs": []
    },
    {
      "cell_type": "code",
      "metadata": {
        "id": "e3OpTpxclH61"
      },
      "source": [
        "# Heurística\n",
        "def conta_ataques(tabuleiro):\n",
        "\n",
        "    total_ataques = 0\n",
        "    ataques_diagonal_total = 0\n",
        "\n",
        "    ataques_diagonal_superior = checa_diagonal_superior(tabuleiro)\n",
        "    ataques_diagonal_inferior = checa_diagonal_inferior(tabuleiro)\n",
        "\n",
        "    ataques_diagonal_total += ataques_diagonal_superior + ataques_diagonal_inferior\n",
        "    \n",
        "    total_ataques += checa_linha(tabuleiro) + ataques_diagonal_total\n",
        "\n",
        "    return total_ataques"
      ],
      "execution_count": 298,
      "outputs": []
    },
    {
      "cell_type": "code",
      "metadata": {
        "colab": {
          "base_uri": "https://localhost:8080/"
        },
        "id": "Sqo8-5EAwNdM",
        "outputId": "46105021-2dce-490b-f214-1a140ff647f2"
      },
      "source": [
        "# print(checa_linha(tabuleiro))\n",
        "# print(checa_diagonal_superior(tabuleiro))\n",
        "# print(checa_diagonal_inferior(tabuleiro))\n",
        "print(\"O total de ataques para o tabuleiro \" + str(tabuleiro) \n",
        "      + \" é igual à \" + str(conta_ataques(tabuleiro)))"
      ],
      "execution_count": 299,
      "outputs": [
        {
          "output_type": "stream",
          "text": [
            "O total de ataques para o tabuleiro [0, 2, 2, 0] é igual à 4\n"
          ],
          "name": "stdout"
        }
      ]
    },
    {
      "cell_type": "markdown",
      "metadata": {
        "id": "pFhvJCArSJ0x"
      },
      "source": [
        "## Hill Climbing"
      ]
    },
    {
      "cell_type": "markdown",
      "metadata": {
        "id": "MkzDI4odDHQ7"
      },
      "source": [
        "### (a) Implemente uma versão do algoritmo Hill Climbing, onde o tabuleiro sucessor do tabuleiro corrente será o primeiro vizinho dele (tabuleiro corrente) que tem uma avaliação melhor."
      ]
    },
    {
      "cell_type": "code",
      "metadata": {
        "id": "l2DSVzPPF8dV"
      },
      "source": [
        "def calcula_f(tabuleiro):\n",
        "    return conta_ataques(tabuleiro) * (-1)"
      ],
      "execution_count": 300,
      "outputs": []
    },
    {
      "cell_type": "code",
      "metadata": {
        "id": "ved45mLDWcjh"
      },
      "source": [
        "def melhor_vizinho(tabuleiro):\n",
        "\n",
        "    melhor = tabuleiro\n",
        "    f_melhor = calcula_f(tabuleiro)\n",
        "    copia_vizinhos = vizinhos.copy()\n",
        "    # print(f_melhor)\n",
        "\n",
        "    for vizinho in range(len(copia_vizinhos)):\n",
        "\n",
        "        f_vizinho = calcula_f(copia_vizinhos[vizinho])\n",
        "        # print(calcula_f(vizinhos[vizinho]))\n",
        "\n",
        "        if f_vizinho > f_melhor:\n",
        "            melhor = copia_vizinhos[vizinho]\n",
        "            # print(melhor)\n",
        "            f_melhor = calcula_f(melhor)\n",
        "\n",
        "    return melhor"
      ],
      "execution_count": 301,
      "outputs": []
    },
    {
      "cell_type": "code",
      "metadata": {
        "id": "EE_h_q59Go5B"
      },
      "source": [
        "def melhor_vizinho_modificado(tabuleiro):\n",
        "\n",
        "    melhor = tabuleiro\n",
        "    f_melhor = calcula_f(tabuleiro)\n",
        "    copia_vizinhos = vizinhos.copy()\n",
        "    # print(f_melhor)\n",
        "\n",
        "    for vizinho in range(len(copia_vizinhos)):\n",
        "\n",
        "        f_vizinho = calcula_f(copia_vizinhos[vizinho])\n",
        "        # print(calcula_f(vizinhos[vizinho]))\n",
        "\n",
        "        if f_vizinho >= f_melhor and melhor != copia_vizinhos[vizinho]:\n",
        "            melhor = copia_vizinhos[vizinho]\n",
        "            # print(melhor)\n",
        "            f_melhor = calcula_f(melhor)\n",
        "\n",
        "    return melhor"
      ],
      "execution_count": 302,
      "outputs": []
    },
    {
      "cell_type": "code",
      "metadata": {
        "colab": {
          "base_uri": "https://localhost:8080/"
        },
        "id": "DwLB6tI_WDMu",
        "outputId": "f4e673fc-92df-4d22-b2ab-16adf6986031"
      },
      "source": [
        "vizinhos"
      ],
      "execution_count": 303,
      "outputs": [
        {
          "output_type": "execute_result",
          "data": {
            "text/plain": [
              "[[1, 2, 2, 0],\n",
              " [2, 2, 2, 0],\n",
              " [3, 2, 2, 0],\n",
              " [0, 0, 2, 0],\n",
              " [0, 1, 2, 0],\n",
              " [0, 3, 2, 0],\n",
              " [0, 2, 0, 0],\n",
              " [0, 2, 1, 0],\n",
              " [0, 2, 3, 0],\n",
              " [0, 2, 2, 1],\n",
              " [0, 2, 2, 2],\n",
              " [0, 2, 2, 3]]"
            ]
          },
          "metadata": {
            "tags": []
          },
          "execution_count": 303
        }
      ]
    },
    {
      "cell_type": "code",
      "metadata": {
        "colab": {
          "base_uri": "https://localhost:8080/"
        },
        "id": "d9Hw-MJ5LbRh",
        "outputId": "c351ee1b-de2c-4bd6-a8f0-0d7477fb67e5"
      },
      "source": [
        "def hill_climbing(tabuleiro):\n",
        "\n",
        "    tabuleiro_corrente = tabuleiro\n",
        "    copia_vizinhos = vizinhos.copy()\n",
        "\n",
        "    for vizinho in range(len(vizinhos)):\n",
        "\n",
        "        copia_vizinhos[vizinho] = melhor_vizinho(tabuleiro_corrente)\n",
        "\n",
        "        if calcula_f(copia_vizinhos[vizinho]) <= calcula_f(tabuleiro_corrente):\n",
        "            return tabuleiro_corrente\n",
        "        else:\n",
        "            tabuleiro_corrente = copia_vizinhos[vizinho]\n",
        "\n",
        "\n",
        "hill_climbing(tabuleiro)"
      ],
      "execution_count": 304,
      "outputs": [
        {
          "output_type": "execute_result",
          "data": {
            "text/plain": [
              "[1, 2, 2, 0]"
            ]
          },
          "metadata": {
            "tags": []
          },
          "execution_count": 304
        }
      ]
    },
    {
      "cell_type": "markdown",
      "metadata": {
        "id": "AqnRt6kXDffi"
      },
      "source": [
        "### (b) Implemente uma versão do algoritmo Hill Climbing, onde todos os tabuleiros vizinhos do tabuleiro corrente são avaliados e escolha para ser o novo tabuleiro corrente aquele que mais melhora a avaliação do tabuleiro corrente atual. No caso de haver mais de um tabuleiro, a escolha deve ser feita de forma aleatória."
      ]
    },
    {
      "cell_type": "code",
      "metadata": {
        "id": "OIoBLh8bD-83",
        "colab": {
          "base_uri": "https://localhost:8080/"
        },
        "outputId": "57984381-b5f3-4325-e8fc-ba93a5a59e40"
      },
      "source": [
        "def hill_climbing_modificado(tabuleiro):\n",
        "\n",
        "    tabuleiro_corrente = tabuleiro.copy()\n",
        "    copia_vizinhos_modificado = vizinhos.copy()\n",
        "    f_vizinhos = []\n",
        "    melhores_vizinhos = []\n",
        "\n",
        "    for vizinho in range(len(vizinhos)):\n",
        "\n",
        "        f_vizinhos.append(calcula_f(copia_vizinhos_modificado[vizinho]))\n",
        "        copia_vizinhos_modificado[vizinho] = melhor_vizinho_modificado(tabuleiro_corrente)\n",
        "\n",
        "        # print(\"copia vizinho modificado = \" + str(copia_vizinhos_modificado[vizinho]))\n",
        "        print(\"tabuleiro corrente = \" + str(tabuleiro_corrente))\n",
        "\n",
        "        if calcula_f(copia_vizinhos_modificado[vizinho]) <= calcula_f(tabuleiro_corrente):\n",
        "            # if tabuleiro_corrente not in melhores_vizinhos:\n",
        "            melhores_vizinhos.append(tabuleiro_corrente)\n",
        "            # tabuleiro_corrente = copia_vizinhos_modificado[vizinho]\n",
        "        \n",
        "        tabuleiro_corrente = copia_vizinhos_modificado[vizinho]\n",
        "    \n",
        "    print(f_vizinhos)\n",
        "    print(melhores_vizinhos)\n",
        "\n",
        "\n",
        "hill_climbing_modificado(tabuleiro)"
      ],
      "execution_count": 305,
      "outputs": [
        {
          "output_type": "stream",
          "text": [
            "tabuleiro corrente = [0, 2, 2, 0]\n",
            "tabuleiro corrente = [0, 2, 2, 1]\n",
            "tabuleiro corrente = [0, 2, 2, 1]\n",
            "tabuleiro corrente = [0, 2, 2, 1]\n",
            "tabuleiro corrente = [0, 2, 2, 1]\n",
            "tabuleiro corrente = [0, 2, 2, 1]\n",
            "tabuleiro corrente = [0, 2, 2, 1]\n",
            "tabuleiro corrente = [0, 2, 2, 1]\n",
            "tabuleiro corrente = [0, 2, 2, 1]\n",
            "tabuleiro corrente = [0, 2, 2, 1]\n",
            "tabuleiro corrente = [0, 2, 2, 1]\n",
            "tabuleiro corrente = [0, 2, 2, 1]\n",
            "[-3, -4, -4, -4, -4, -3, -4, -4, -3, -3, -4, -4]\n",
            "[[0, 2, 2, 1], [0, 2, 2, 1], [0, 2, 2, 1], [0, 2, 2, 1], [0, 2, 2, 1], [0, 2, 2, 1], [0, 2, 2, 1], [0, 2, 2, 1], [0, 2, 2, 1], [0, 2, 2, 1], [0, 2, 2, 1]]\n"
          ],
          "name": "stdout"
        }
      ]
    },
    {
      "cell_type": "markdown",
      "metadata": {
        "id": "s-zdpdaNkH4c"
      },
      "source": [
        "### (c) Analise o desempenho de cada uma das implementações. Considere:\n",
        "\n",
        "\n",
        "*   Tabuleiros de tamanho 4, 8, 16 e 32\n",
        "*   Para cada tamanho do tabuleiro:\n",
        "    \n",
        "    - indique quantas vezes você precisou executar os programas para encontrar uma solução\n",
        "    - quantos tabuleiros corrente, em média, foram gerados em cada execução?\n",
        "\n"
      ]
    },
    {
      "cell_type": "markdown",
      "metadata": {
        "id": "1otwDtaMmM2U"
      },
      "source": [
        ""
      ]
    },
    {
      "cell_type": "markdown",
      "metadata": {
        "id": "GnlRAAq_lVNB"
      },
      "source": [
        "### (d) Conclusões"
      ]
    },
    {
      "cell_type": "markdown",
      "metadata": {
        "id": "9LRcyS7_lY1Z"
      },
      "source": [
        ""
      ]
    },
    {
      "cell_type": "markdown",
      "metadata": {
        "id": "L3UGa5djlY54"
      },
      "source": [
        "## Simulated Annealing"
      ]
    },
    {
      "cell_type": "markdown",
      "metadata": {
        "id": "PTSI53tDlfVB"
      },
      "source": [
        "### (a) Implemente o algoritmo."
      ]
    },
    {
      "cell_type": "code",
      "metadata": {
        "id": "wXBxiMTOlb2i"
      },
      "source": [
        ""
      ],
      "execution_count": 305,
      "outputs": []
    },
    {
      "cell_type": "markdown",
      "metadata": {
        "id": "rGi9Wub3loMZ"
      },
      "source": [
        "### (b) Determine experimentalmente valores para os par}ametros de entrada que permitam que uma solução seja encontrada. Considere apenas tabuleiros de tamanho 4 e 8. Relate como a busca se comportou para os diferentes valores dos parâmetros de entrada."
      ]
    },
    {
      "cell_type": "code",
      "metadata": {
        "id": "hg8OCuKplwkM"
      },
      "source": [
        ""
      ],
      "execution_count": 305,
      "outputs": []
    },
    {
      "cell_type": "markdown",
      "metadata": {
        "id": "ooxl2sg3lz2Q"
      },
      "source": [
        "### (c) Caso você tenha sido bem sucedido no item anterior (encontrou a solução do problema de 4 e 8 rainhas), use os mesmos parâmetros de entrada usados e execute o programa agora considerando tabuleiros de tamanho 16 e 32. O que acontece?"
      ]
    },
    {
      "cell_type": "code",
      "metadata": {
        "id": "wHItETg3l50B"
      },
      "source": [
        ""
      ],
      "execution_count": 305,
      "outputs": []
    },
    {
      "cell_type": "markdown",
      "metadata": {
        "id": "0UToISIdmDa5"
      },
      "source": [
        "## Comparando os métodos Hill Climbing e Simulated Annealing na resolução do problema das N-rainhas, o que você pode concluir?"
      ]
    },
    {
      "cell_type": "markdown",
      "metadata": {
        "id": "4UP78t5imK8I"
      },
      "source": [
        ""
      ]
    }
  ]
}